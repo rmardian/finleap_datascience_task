{
 "cells": [
  {
   "cell_type": "markdown",
   "metadata": {},
   "source": [
    "### Import Required Libraries"
   ]
  },
  {
   "cell_type": "code",
   "execution_count": 1,
   "metadata": {},
   "outputs": [],
   "source": [
    "import pandas as pd\n",
    "pd.set_option('display.max_columns', None)\n",
    "import numpy as np\n",
    "\n",
    "%matplotlib inline\n",
    "import matplotlib.pyplot as plt\n",
    "from matplotlib.pylab import rcParams\n",
    "rcParams.update({'font.size': 12, 'figure.figsize': (10, 5)})\n",
    "import seaborn as sns\n",
    "sns.set_style('white')\n",
    "\n",
    "import warnings\n",
    "warnings.filterwarnings(\"ignore\")\n",
    "\n",
    "from datetime import datetime, timedelta\n",
    "\n",
    "from sklearn.pipeline import Pipeline\n",
    "from sklearn.compose import ColumnTransformer\n",
    "from sklearn.preprocessing import MinMaxScaler, OneHotEncoder\n",
    "\n",
    "from sklearn.model_selection import train_test_split, cross_val_score, ParameterGrid\n",
    "from sklearn.ensemble import RandomForestClassifier, RandomForestRegressor\n",
    "from sklearn.mixture import GaussianMixture\n",
    "from sklearn.cluster import KMeans\n",
    "from sklearn.metrics import accuracy_score, mean_absolute_error"
   ]
  },
  {
   "cell_type": "markdown",
   "metadata": {},
   "source": [
    "###  Load the Dataset "
   ]
  },
  {
   "cell_type": "code",
   "execution_count": 2,
   "metadata": {},
   "outputs": [
    {
     "name": "stdout",
     "output_type": "stream",
     "text": [
      "(100000, 34)\n"
     ]
    },
    {
     "data": {
      "text/html": [
       "<div>\n",
       "<style scoped>\n",
       "    .dataframe tbody tr th:only-of-type {\n",
       "        vertical-align: middle;\n",
       "    }\n",
       "\n",
       "    .dataframe tbody tr th {\n",
       "        vertical-align: top;\n",
       "    }\n",
       "\n",
       "    .dataframe thead th {\n",
       "        text-align: right;\n",
       "    }\n",
       "</style>\n",
       "<table border=\"1\" class=\"dataframe\">\n",
       "  <thead>\n",
       "    <tr style=\"text-align: right;\">\n",
       "      <th></th>\n",
       "      <th>X1</th>\n",
       "      <th>X2</th>\n",
       "      <th>X3</th>\n",
       "      <th>M</th>\n",
       "      <th>TS00</th>\n",
       "      <th>TO00</th>\n",
       "      <th>TS01</th>\n",
       "      <th>TO01</th>\n",
       "      <th>TS02</th>\n",
       "      <th>TO02</th>\n",
       "      <th>TS03</th>\n",
       "      <th>TO03</th>\n",
       "      <th>TS04</th>\n",
       "      <th>TO04</th>\n",
       "      <th>TS05</th>\n",
       "      <th>TO05</th>\n",
       "      <th>TS06</th>\n",
       "      <th>TO06</th>\n",
       "      <th>TS07</th>\n",
       "      <th>TO07</th>\n",
       "      <th>TS08</th>\n",
       "      <th>TO08</th>\n",
       "      <th>TS09</th>\n",
       "      <th>TO09</th>\n",
       "      <th>TS10</th>\n",
       "      <th>TO10</th>\n",
       "      <th>TS11</th>\n",
       "      <th>TO11</th>\n",
       "      <th>TS12</th>\n",
       "      <th>TO12</th>\n",
       "      <th>TS13</th>\n",
       "      <th>TO13</th>\n",
       "      <th>TS14</th>\n",
       "      <th>TO14</th>\n",
       "    </tr>\n",
       "  </thead>\n",
       "  <tbody>\n",
       "    <tr>\n",
       "      <th>74149</th>\n",
       "      <td>-0.48</td>\n",
       "      <td>-1.02</td>\n",
       "      <td>0</td>\n",
       "      <td>7</td>\n",
       "      <td>11:00</td>\n",
       "      <td>11:39</td>\n",
       "      <td>17:00</td>\n",
       "      <td>17:50</td>\n",
       "      <td>17:00</td>\n",
       "      <td>17:20</td>\n",
       "      <td>09:00</td>\n",
       "      <td>09:21</td>\n",
       "      <td>07:00</td>\n",
       "      <td>07:28</td>\n",
       "      <td>15:00</td>\n",
       "      <td>15:05</td>\n",
       "      <td>13:00</td>\n",
       "      <td>13:04</td>\n",
       "      <td>NaN</td>\n",
       "      <td>NaN</td>\n",
       "      <td>NaN</td>\n",
       "      <td>NaN</td>\n",
       "      <td>NaN</td>\n",
       "      <td>NaN</td>\n",
       "      <td>NaN</td>\n",
       "      <td>NaN</td>\n",
       "      <td>NaN</td>\n",
       "      <td>NaN</td>\n",
       "      <td>NaN</td>\n",
       "      <td>NaN</td>\n",
       "      <td>NaN</td>\n",
       "      <td>NaN</td>\n",
       "      <td>NaN</td>\n",
       "      <td>NaN</td>\n",
       "    </tr>\n",
       "    <tr>\n",
       "      <th>3237</th>\n",
       "      <td>1.03</td>\n",
       "      <td>-2.07</td>\n",
       "      <td>1</td>\n",
       "      <td>4</td>\n",
       "      <td>07:00</td>\n",
       "      <td>21:56</td>\n",
       "      <td>18:00</td>\n",
       "      <td>08:10</td>\n",
       "      <td>20:00</td>\n",
       "      <td>20:20</td>\n",
       "      <td>15:00</td>\n",
       "      <td>23:57</td>\n",
       "      <td>NaN</td>\n",
       "      <td>NaN</td>\n",
       "      <td>NaN</td>\n",
       "      <td>NaN</td>\n",
       "      <td>NaN</td>\n",
       "      <td>NaN</td>\n",
       "      <td>NaN</td>\n",
       "      <td>NaN</td>\n",
       "      <td>NaN</td>\n",
       "      <td>NaN</td>\n",
       "      <td>NaN</td>\n",
       "      <td>NaN</td>\n",
       "      <td>NaN</td>\n",
       "      <td>NaN</td>\n",
       "      <td>NaN</td>\n",
       "      <td>NaN</td>\n",
       "      <td>NaN</td>\n",
       "      <td>NaN</td>\n",
       "      <td>NaN</td>\n",
       "      <td>NaN</td>\n",
       "      <td>NaN</td>\n",
       "      <td>NaN</td>\n",
       "    </tr>\n",
       "    <tr>\n",
       "      <th>52961</th>\n",
       "      <td>0.06</td>\n",
       "      <td>2.27</td>\n",
       "      <td>2</td>\n",
       "      <td>1</td>\n",
       "      <td>19:00</td>\n",
       "      <td>14:07</td>\n",
       "      <td>NaN</td>\n",
       "      <td>NaN</td>\n",
       "      <td>NaN</td>\n",
       "      <td>NaN</td>\n",
       "      <td>NaN</td>\n",
       "      <td>NaN</td>\n",
       "      <td>NaN</td>\n",
       "      <td>NaN</td>\n",
       "      <td>NaN</td>\n",
       "      <td>NaN</td>\n",
       "      <td>NaN</td>\n",
       "      <td>NaN</td>\n",
       "      <td>NaN</td>\n",
       "      <td>NaN</td>\n",
       "      <td>NaN</td>\n",
       "      <td>NaN</td>\n",
       "      <td>NaN</td>\n",
       "      <td>NaN</td>\n",
       "      <td>NaN</td>\n",
       "      <td>NaN</td>\n",
       "      <td>NaN</td>\n",
       "      <td>NaN</td>\n",
       "      <td>NaN</td>\n",
       "      <td>NaN</td>\n",
       "      <td>NaN</td>\n",
       "      <td>NaN</td>\n",
       "      <td>NaN</td>\n",
       "      <td>NaN</td>\n",
       "    </tr>\n",
       "  </tbody>\n",
       "</table>\n",
       "</div>"
      ],
      "text/plain": [
       "         X1    X2  X3  M   TS00   TO00   TS01   TO01   TS02   TO02   TS03  \\\n",
       "74149 -0.48 -1.02   0  7  11:00  11:39  17:00  17:50  17:00  17:20  09:00   \n",
       "3237   1.03 -2.07   1  4  07:00  21:56  18:00  08:10  20:00  20:20  15:00   \n",
       "52961  0.06  2.27   2  1  19:00  14:07    NaN    NaN    NaN    NaN    NaN   \n",
       "\n",
       "        TO03   TS04   TO04   TS05   TO05   TS06   TO06 TS07 TO07 TS08 TO08  \\\n",
       "74149  09:21  07:00  07:28  15:00  15:05  13:00  13:04  NaN  NaN  NaN  NaN   \n",
       "3237   23:57    NaN    NaN    NaN    NaN    NaN    NaN  NaN  NaN  NaN  NaN   \n",
       "52961    NaN    NaN    NaN    NaN    NaN    NaN    NaN  NaN  NaN  NaN  NaN   \n",
       "\n",
       "      TS09 TO09 TS10 TO10 TS11 TO11 TS12 TO12 TS13 TO13 TS14 TO14  \n",
       "74149  NaN  NaN  NaN  NaN  NaN  NaN  NaN  NaN  NaN  NaN  NaN  NaN  \n",
       "3237   NaN  NaN  NaN  NaN  NaN  NaN  NaN  NaN  NaN  NaN  NaN  NaN  \n",
       "52961  NaN  NaN  NaN  NaN  NaN  NaN  NaN  NaN  NaN  NaN  NaN  NaN  "
      ]
     },
     "execution_count": 2,
     "metadata": {},
     "output_type": "execute_result"
    }
   ],
   "source": [
    "data = pd.read_csv('datasets/data.csv')\n",
    "print(data.shape)\n",
    "data.sample(3)"
   ]
  },
  {
   "cell_type": "markdown",
   "metadata": {},
   "source": [
    "### Data & Task Description"
   ]
  },
  {
   "cell_type": "markdown",
   "metadata": {},
   "source": [
    "<div>N users (N=100.000), every user data lays in separate row (i.e. you have 100K rows for 100K users)</div>\n",
    "<ul>\n",
    "<li>X[i] - features of i-th user, i in [1..N]</li>\n",
    "<li>X[i][0] - feature 1 (numerical)</li>\n",
    "<li>X[i][1] - feature 2 (numerical)</li>\n",
    "<li>X[i][2] - feature 3 (categorical)</li>\n",
    "<li>M[i] - number of emails sent to i-th user (1 <= M[i] <= 15), Mi is not the same for every user i, (for instance M[1] could be 10, M[2] could be 5)</li>\n",
    "<li>TS[i][j] - time of j-th email sending to i-th user, j in [1..M[i]]</li>\n",
    "<li>TO[i][j] - time of j-th email opening by i-th user, j in [1..M[i]]</li>\n",
    "</ul>\n",
    "<div>NOTE: If TS[i][j] > TO[i][j], then TO[i][j] belongs to the next day (for instance if sending time is\n",
    "14:00 and opening time is 10:00, then it’s 10:00 of the next day)</div>"
   ]
  },
  {
   "cell_type": "markdown",
   "metadata": {},
   "source": [
    "<b>Goal:</b> given features of new user X predict the sending time TS so that opening time TO will\n",
    "be as early as possible, i.e (TO-TS) -> min"
   ]
  },
  {
   "cell_type": "markdown",
   "metadata": {},
   "source": [
    "The task in this case study is also known as the 'Send Time Optimization' problem, which is one of the most interesting problems for marketing intelligence using machine learning and/or optimization based approaches. There are various methods can be employed to solve it (e.g. A/B testing, multi-armed bandit algorithm, reinforcement learning, etc.), but most of them require some degree of experimentation (which might be not feasible for this task). Here, I'm going to present a model-based approach using the combination of supervised learning (i.e. classification and regression) and unsupervised learning (i.e. clustering) models."
   ]
  },
  {
   "cell_type": "markdown",
   "metadata": {},
   "source": [
    "Initially, I tried to convert the timestamp data (TOs and TSs) into the datetime format. However, I got some errors because some numbers are negative (see column 'TS01' below). I'll manually fix these as I assume there some typos in the following rows."
   ]
  },
  {
   "cell_type": "code",
   "execution_count": 3,
   "metadata": {
    "scrolled": true
   },
   "outputs": [
    {
     "data": {
      "text/html": [
       "<div>\n",
       "<style scoped>\n",
       "    .dataframe tbody tr th:only-of-type {\n",
       "        vertical-align: middle;\n",
       "    }\n",
       "\n",
       "    .dataframe tbody tr th {\n",
       "        vertical-align: top;\n",
       "    }\n",
       "\n",
       "    .dataframe thead th {\n",
       "        text-align: right;\n",
       "    }\n",
       "</style>\n",
       "<table border=\"1\" class=\"dataframe\">\n",
       "  <thead>\n",
       "    <tr style=\"text-align: right;\">\n",
       "      <th></th>\n",
       "      <th>X1</th>\n",
       "      <th>X2</th>\n",
       "      <th>X3</th>\n",
       "      <th>M</th>\n",
       "      <th>TS00</th>\n",
       "      <th>TO00</th>\n",
       "      <th>TS01</th>\n",
       "      <th>TO01</th>\n",
       "      <th>TS02</th>\n",
       "      <th>TO02</th>\n",
       "      <th>TS03</th>\n",
       "      <th>TO03</th>\n",
       "      <th>TS04</th>\n",
       "      <th>TO04</th>\n",
       "      <th>TS05</th>\n",
       "      <th>TO05</th>\n",
       "      <th>TS06</th>\n",
       "      <th>TO06</th>\n",
       "      <th>TS07</th>\n",
       "      <th>TO07</th>\n",
       "      <th>TS08</th>\n",
       "      <th>TO08</th>\n",
       "      <th>TS09</th>\n",
       "      <th>TO09</th>\n",
       "      <th>TS10</th>\n",
       "      <th>TO10</th>\n",
       "      <th>TS11</th>\n",
       "      <th>TO11</th>\n",
       "      <th>TS12</th>\n",
       "      <th>TO12</th>\n",
       "      <th>TS13</th>\n",
       "      <th>TO13</th>\n",
       "      <th>TS14</th>\n",
       "      <th>TO14</th>\n",
       "    </tr>\n",
       "  </thead>\n",
       "  <tbody>\n",
       "    <tr>\n",
       "      <th>4881</th>\n",
       "      <td>0.06</td>\n",
       "      <td>-0.62</td>\n",
       "      <td>0</td>\n",
       "      <td>11</td>\n",
       "      <td>15:00</td>\n",
       "      <td>07:52</td>\n",
       "      <td>10:00</td>\n",
       "      <td>00:-53</td>\n",
       "      <td>13:00</td>\n",
       "      <td>22:07</td>\n",
       "      <td>09:00</td>\n",
       "      <td>20:51</td>\n",
       "      <td>08:00</td>\n",
       "      <td>13:44</td>\n",
       "      <td>10:00</td>\n",
       "      <td>19:11</td>\n",
       "      <td>19:00</td>\n",
       "      <td>22:27</td>\n",
       "      <td>08:00</td>\n",
       "      <td>12:21</td>\n",
       "      <td>07:00</td>\n",
       "      <td>21:29</td>\n",
       "      <td>14:00</td>\n",
       "      <td>17:00</td>\n",
       "      <td>12:00</td>\n",
       "      <td>23:31</td>\n",
       "      <td>NaN</td>\n",
       "      <td>NaN</td>\n",
       "      <td>NaN</td>\n",
       "      <td>NaN</td>\n",
       "      <td>NaN</td>\n",
       "      <td>NaN</td>\n",
       "      <td>NaN</td>\n",
       "      <td>NaN</td>\n",
       "    </tr>\n",
       "    <tr>\n",
       "      <th>97375</th>\n",
       "      <td>0.56</td>\n",
       "      <td>0.01</td>\n",
       "      <td>0</td>\n",
       "      <td>13</td>\n",
       "      <td>17:00</td>\n",
       "      <td>17:15</td>\n",
       "      <td>09:00</td>\n",
       "      <td>-1:-6</td>\n",
       "      <td>09:00</td>\n",
       "      <td>09:56</td>\n",
       "      <td>11:00</td>\n",
       "      <td>07:34</td>\n",
       "      <td>09:00</td>\n",
       "      <td>08:02</td>\n",
       "      <td>15:00</td>\n",
       "      <td>11:00</td>\n",
       "      <td>17:00</td>\n",
       "      <td>08:22</td>\n",
       "      <td>19:00</td>\n",
       "      <td>17:48</td>\n",
       "      <td>10:00</td>\n",
       "      <td>13:50</td>\n",
       "      <td>16:00</td>\n",
       "      <td>22:33</td>\n",
       "      <td>12:00</td>\n",
       "      <td>10:22</td>\n",
       "      <td>12:00</td>\n",
       "      <td>10:15</td>\n",
       "      <td>16:00</td>\n",
       "      <td>09:21</td>\n",
       "      <td>NaN</td>\n",
       "      <td>NaN</td>\n",
       "      <td>NaN</td>\n",
       "      <td>NaN</td>\n",
       "    </tr>\n",
       "  </tbody>\n",
       "</table>\n",
       "</div>"
      ],
      "text/plain": [
       "         X1    X2  X3   M   TS00   TO00   TS01    TO01   TS02   TO02   TS03  \\\n",
       "4881   0.06 -0.62   0  11  15:00  07:52  10:00  00:-53  13:00  22:07  09:00   \n",
       "97375  0.56  0.01   0  13  17:00  17:15  09:00   -1:-6  09:00  09:56  11:00   \n",
       "\n",
       "        TO03   TS04   TO04   TS05   TO05   TS06   TO06   TS07   TO07   TS08  \\\n",
       "4881   20:51  08:00  13:44  10:00  19:11  19:00  22:27  08:00  12:21  07:00   \n",
       "97375  07:34  09:00  08:02  15:00  11:00  17:00  08:22  19:00  17:48  10:00   \n",
       "\n",
       "        TO08   TS09   TO09   TS10   TO10   TS11   TO11   TS12   TO12 TS13  \\\n",
       "4881   21:29  14:00  17:00  12:00  23:31    NaN    NaN    NaN    NaN  NaN   \n",
       "97375  13:50  16:00  22:33  12:00  10:22  12:00  10:15  16:00  09:21  NaN   \n",
       "\n",
       "      TO13 TS14 TO14  \n",
       "4881   NaN  NaN  NaN  \n",
       "97375  NaN  NaN  NaN  "
      ]
     },
     "execution_count": 3,
     "metadata": {},
     "output_type": "execute_result"
    }
   ],
   "source": [
    "data[data['TO01'].isin(['00:-53', '-1:-6'])]"
   ]
  },
  {
   "cell_type": "code",
   "execution_count": 4,
   "metadata": {},
   "outputs": [],
   "source": [
    "data.iloc[4881, 7] = '00:53'\n",
    "data.iloc[97375, 7] = '01:06'"
   ]
  },
  {
   "cell_type": "markdown",
   "metadata": {},
   "source": [
    "### Data Preparation"
   ]
  },
  {
   "cell_type": "markdown",
   "metadata": {},
   "source": [
    "Let's create a column for 'user_id' by directly using the dataframe index."
   ]
  },
  {
   "cell_type": "code",
   "execution_count": 5,
   "metadata": {},
   "outputs": [
    {
     "data": {
      "text/html": [
       "<div>\n",
       "<style scoped>\n",
       "    .dataframe tbody tr th:only-of-type {\n",
       "        vertical-align: middle;\n",
       "    }\n",
       "\n",
       "    .dataframe tbody tr th {\n",
       "        vertical-align: top;\n",
       "    }\n",
       "\n",
       "    .dataframe thead th {\n",
       "        text-align: right;\n",
       "    }\n",
       "</style>\n",
       "<table border=\"1\" class=\"dataframe\">\n",
       "  <thead>\n",
       "    <tr style=\"text-align: right;\">\n",
       "      <th></th>\n",
       "      <th>user_id</th>\n",
       "      <th>X1</th>\n",
       "      <th>X2</th>\n",
       "      <th>X3</th>\n",
       "      <th>M</th>\n",
       "      <th>TS00</th>\n",
       "      <th>TO00</th>\n",
       "      <th>TS01</th>\n",
       "      <th>TO01</th>\n",
       "      <th>TS02</th>\n",
       "      <th>TO02</th>\n",
       "      <th>TS03</th>\n",
       "      <th>TO03</th>\n",
       "      <th>TS04</th>\n",
       "      <th>TO04</th>\n",
       "      <th>TS05</th>\n",
       "      <th>TO05</th>\n",
       "      <th>TS06</th>\n",
       "      <th>TO06</th>\n",
       "      <th>TS07</th>\n",
       "      <th>TO07</th>\n",
       "      <th>TS08</th>\n",
       "      <th>TO08</th>\n",
       "      <th>TS09</th>\n",
       "      <th>TO09</th>\n",
       "      <th>TS10</th>\n",
       "      <th>TO10</th>\n",
       "      <th>TS11</th>\n",
       "      <th>TO11</th>\n",
       "      <th>TS12</th>\n",
       "      <th>TO12</th>\n",
       "      <th>TS13</th>\n",
       "      <th>TO13</th>\n",
       "      <th>TS14</th>\n",
       "      <th>TO14</th>\n",
       "    </tr>\n",
       "  </thead>\n",
       "  <tbody>\n",
       "    <tr>\n",
       "      <th>3028</th>\n",
       "      <td>3028</td>\n",
       "      <td>0.93</td>\n",
       "      <td>-0.80</td>\n",
       "      <td>3</td>\n",
       "      <td>1</td>\n",
       "      <td>09:00</td>\n",
       "      <td>21:31</td>\n",
       "      <td>NaN</td>\n",
       "      <td>NaN</td>\n",
       "      <td>NaN</td>\n",
       "      <td>NaN</td>\n",
       "      <td>NaN</td>\n",
       "      <td>NaN</td>\n",
       "      <td>NaN</td>\n",
       "      <td>NaN</td>\n",
       "      <td>NaN</td>\n",
       "      <td>NaN</td>\n",
       "      <td>NaN</td>\n",
       "      <td>NaN</td>\n",
       "      <td>NaN</td>\n",
       "      <td>NaN</td>\n",
       "      <td>NaN</td>\n",
       "      <td>NaN</td>\n",
       "      <td>NaN</td>\n",
       "      <td>NaN</td>\n",
       "      <td>NaN</td>\n",
       "      <td>NaN</td>\n",
       "      <td>NaN</td>\n",
       "      <td>NaN</td>\n",
       "      <td>NaN</td>\n",
       "      <td>NaN</td>\n",
       "      <td>NaN</td>\n",
       "      <td>NaN</td>\n",
       "      <td>NaN</td>\n",
       "      <td>NaN</td>\n",
       "    </tr>\n",
       "    <tr>\n",
       "      <th>60445</th>\n",
       "      <td>60445</td>\n",
       "      <td>-1.88</td>\n",
       "      <td>-1.24</td>\n",
       "      <td>1</td>\n",
       "      <td>7</td>\n",
       "      <td>12:00</td>\n",
       "      <td>20:44</td>\n",
       "      <td>16:00</td>\n",
       "      <td>09:05</td>\n",
       "      <td>16:00</td>\n",
       "      <td>21:12</td>\n",
       "      <td>16:00</td>\n",
       "      <td>09:14</td>\n",
       "      <td>19:00</td>\n",
       "      <td>08:29</td>\n",
       "      <td>10:00</td>\n",
       "      <td>22:39</td>\n",
       "      <td>12:00</td>\n",
       "      <td>19:42</td>\n",
       "      <td>NaN</td>\n",
       "      <td>NaN</td>\n",
       "      <td>NaN</td>\n",
       "      <td>NaN</td>\n",
       "      <td>NaN</td>\n",
       "      <td>NaN</td>\n",
       "      <td>NaN</td>\n",
       "      <td>NaN</td>\n",
       "      <td>NaN</td>\n",
       "      <td>NaN</td>\n",
       "      <td>NaN</td>\n",
       "      <td>NaN</td>\n",
       "      <td>NaN</td>\n",
       "      <td>NaN</td>\n",
       "      <td>NaN</td>\n",
       "      <td>NaN</td>\n",
       "    </tr>\n",
       "    <tr>\n",
       "      <th>80768</th>\n",
       "      <td>80768</td>\n",
       "      <td>-0.92</td>\n",
       "      <td>-2.94</td>\n",
       "      <td>3</td>\n",
       "      <td>10</td>\n",
       "      <td>20:00</td>\n",
       "      <td>20:22</td>\n",
       "      <td>10:00</td>\n",
       "      <td>10:58</td>\n",
       "      <td>19:00</td>\n",
       "      <td>21:07</td>\n",
       "      <td>13:00</td>\n",
       "      <td>15:33</td>\n",
       "      <td>15:00</td>\n",
       "      <td>15:39</td>\n",
       "      <td>13:00</td>\n",
       "      <td>13:06</td>\n",
       "      <td>19:00</td>\n",
       "      <td>19:29</td>\n",
       "      <td>09:00</td>\n",
       "      <td>09:48</td>\n",
       "      <td>20:00</td>\n",
       "      <td>20:06</td>\n",
       "      <td>13:00</td>\n",
       "      <td>15:25</td>\n",
       "      <td>NaN</td>\n",
       "      <td>NaN</td>\n",
       "      <td>NaN</td>\n",
       "      <td>NaN</td>\n",
       "      <td>NaN</td>\n",
       "      <td>NaN</td>\n",
       "      <td>NaN</td>\n",
       "      <td>NaN</td>\n",
       "      <td>NaN</td>\n",
       "      <td>NaN</td>\n",
       "    </tr>\n",
       "  </tbody>\n",
       "</table>\n",
       "</div>"
      ],
      "text/plain": [
       "       user_id    X1    X2  X3   M   TS00   TO00   TS01   TO01   TS02   TO02  \\\n",
       "3028      3028  0.93 -0.80   3   1  09:00  21:31    NaN    NaN    NaN    NaN   \n",
       "60445    60445 -1.88 -1.24   1   7  12:00  20:44  16:00  09:05  16:00  21:12   \n",
       "80768    80768 -0.92 -2.94   3  10  20:00  20:22  10:00  10:58  19:00  21:07   \n",
       "\n",
       "        TS03   TO03   TS04   TO04   TS05   TO05   TS06   TO06   TS07   TO07  \\\n",
       "3028     NaN    NaN    NaN    NaN    NaN    NaN    NaN    NaN    NaN    NaN   \n",
       "60445  16:00  09:14  19:00  08:29  10:00  22:39  12:00  19:42    NaN    NaN   \n",
       "80768  13:00  15:33  15:00  15:39  13:00  13:06  19:00  19:29  09:00  09:48   \n",
       "\n",
       "        TS08   TO08   TS09   TO09 TS10 TO10 TS11 TO11 TS12 TO12 TS13 TO13  \\\n",
       "3028     NaN    NaN    NaN    NaN  NaN  NaN  NaN  NaN  NaN  NaN  NaN  NaN   \n",
       "60445    NaN    NaN    NaN    NaN  NaN  NaN  NaN  NaN  NaN  NaN  NaN  NaN   \n",
       "80768  20:00  20:06  13:00  15:25  NaN  NaN  NaN  NaN  NaN  NaN  NaN  NaN   \n",
       "\n",
       "      TS14 TO14  \n",
       "3028   NaN  NaN  \n",
       "60445  NaN  NaN  \n",
       "80768  NaN  NaN  "
      ]
     },
     "execution_count": 5,
     "metadata": {},
     "output_type": "execute_result"
    }
   ],
   "source": [
    "data.index.name = 'user_id'\n",
    "data = data.reset_index()\n",
    "data.sample(3)"
   ]
  },
  {
   "cell_type": "markdown",
   "metadata": {},
   "source": [
    "Then, define the group of features, as follows."
   ]
  },
  {
   "cell_type": "code",
   "execution_count": 6,
   "metadata": {},
   "outputs": [],
   "source": [
    "profiles = ['user_id', 'X1', 'X2', 'X3']\n",
    "sendings = [i for i in data.columns if i.startswith('TS')]\n",
    "openings = [i for i in data.columns if i.startswith('TO')]"
   ]
  },
  {
   "cell_type": "markdown",
   "metadata": {},
   "source": [
    "#### Validation Set"
   ]
  },
  {
   "cell_type": "markdown",
   "metadata": {},
   "source": [
    "To evaluate the performance of my proposed approach (as will be explained below), split the dataset into training and validation sets. I'll just take 20% of the initial dataset as the validation set."
   ]
  },
  {
   "cell_type": "code",
   "execution_count": 7,
   "metadata": {},
   "outputs": [
    {
     "data": {
      "text/plain": [
       "(20000, 35)"
      ]
     },
     "execution_count": 7,
     "metadata": {},
     "output_type": "execute_result"
    }
   ],
   "source": [
    "test_set = data.sample(int(data.shape[0] * 0.2), random_state=42)\n",
    "test_set.shape"
   ]
  },
  {
   "cell_type": "markdown",
   "metadata": {},
   "source": [
    "Remove the validation set from the initial dataset to get the training set."
   ]
  },
  {
   "cell_type": "code",
   "execution_count": 8,
   "metadata": {},
   "outputs": [
    {
     "data": {
      "text/plain": [
       "(80000, 35)"
      ]
     },
     "execution_count": 8,
     "metadata": {},
     "output_type": "execute_result"
    }
   ],
   "source": [
    "train_set = data.drop(test_set.index)\n",
    "train_set.shape"
   ]
  },
  {
   "cell_type": "markdown",
   "metadata": {},
   "source": [
    "#### Activity-level Data"
   ]
  },
  {
   "cell_type": "markdown",
   "metadata": {},
   "source": [
    "Next, I'm going to do some transformation on the original dataset to get a new data on the activity level (i.e. each row represents one email being sent and opened), and engineering some new features out of them."
   ]
  },
  {
   "cell_type": "markdown",
   "metadata": {},
   "source": [
    "To begin, I need to melt both TS and TO variables. I'll do it separately, then merge the result together. To help the merging process I'm going to create a temporary column as the key to join the dataframes, by concatenating the user_id and the index for TS/TO columns."
   ]
  },
  {
   "cell_type": "code",
   "execution_count": 9,
   "metadata": {},
   "outputs": [
    {
     "name": "stdout",
     "output_type": "stream",
     "text": [
      "(1200000, 3)\n"
     ]
    },
    {
     "data": {
      "text/html": [
       "<div>\n",
       "<style scoped>\n",
       "    .dataframe tbody tr th:only-of-type {\n",
       "        vertical-align: middle;\n",
       "    }\n",
       "\n",
       "    .dataframe tbody tr th {\n",
       "        vertical-align: top;\n",
       "    }\n",
       "\n",
       "    .dataframe thead th {\n",
       "        text-align: right;\n",
       "    }\n",
       "</style>\n",
       "<table border=\"1\" class=\"dataframe\">\n",
       "  <thead>\n",
       "    <tr style=\"text-align: right;\">\n",
       "      <th></th>\n",
       "      <th>user_id</th>\n",
       "      <th>Tx</th>\n",
       "      <th>TS</th>\n",
       "    </tr>\n",
       "  </thead>\n",
       "  <tbody>\n",
       "    <tr>\n",
       "      <th>1092292</th>\n",
       "      <td>65375</td>\n",
       "      <td>65375-13</td>\n",
       "      <td>NaN</td>\n",
       "    </tr>\n",
       "    <tr>\n",
       "      <th>162094</th>\n",
       "      <td>2626</td>\n",
       "      <td>2626-02</td>\n",
       "      <td>NaN</td>\n",
       "    </tr>\n",
       "    <tr>\n",
       "      <th>472683</th>\n",
       "      <td>90862</td>\n",
       "      <td>90862-05</td>\n",
       "      <td>18:00</td>\n",
       "    </tr>\n",
       "    <tr>\n",
       "      <th>549684</th>\n",
       "      <td>87080</td>\n",
       "      <td>87080-06</td>\n",
       "      <td>20:00</td>\n",
       "    </tr>\n",
       "    <tr>\n",
       "      <th>136922</th>\n",
       "      <td>71181</td>\n",
       "      <td>71181-01</td>\n",
       "      <td>18:00</td>\n",
       "    </tr>\n",
       "  </tbody>\n",
       "</table>\n",
       "</div>"
      ],
      "text/plain": [
       "         user_id        Tx     TS\n",
       "1092292    65375  65375-13    NaN\n",
       "162094      2626   2626-02    NaN\n",
       "472683     90862  90862-05  18:00\n",
       "549684     87080  87080-06  20:00\n",
       "136922     71181  71181-01  18:00"
      ]
     },
     "execution_count": 9,
     "metadata": {},
     "output_type": "execute_result"
    }
   ],
   "source": [
    "ts_melted = pd.melt(train_set, id_vars=['user_id'], value_vars=sendings, var_name='Tx', value_name='TS')\n",
    "ts_melted['Tx'] = ts_melted['user_id'].astype('str') + '-' + ts_melted['Tx'].str[-2:]  #the helper key\n",
    "print(ts_melted.shape)\n",
    "ts_melted.sample(5)"
   ]
  },
  {
   "cell_type": "code",
   "execution_count": 10,
   "metadata": {},
   "outputs": [
    {
     "name": "stdout",
     "output_type": "stream",
     "text": [
      "(1200000, 3)\n"
     ]
    },
    {
     "data": {
      "text/html": [
       "<div>\n",
       "<style scoped>\n",
       "    .dataframe tbody tr th:only-of-type {\n",
       "        vertical-align: middle;\n",
       "    }\n",
       "\n",
       "    .dataframe tbody tr th {\n",
       "        vertical-align: top;\n",
       "    }\n",
       "\n",
       "    .dataframe thead th {\n",
       "        text-align: right;\n",
       "    }\n",
       "</style>\n",
       "<table border=\"1\" class=\"dataframe\">\n",
       "  <thead>\n",
       "    <tr style=\"text-align: right;\">\n",
       "      <th></th>\n",
       "      <th>user_id</th>\n",
       "      <th>Tx</th>\n",
       "      <th>TO</th>\n",
       "    </tr>\n",
       "  </thead>\n",
       "  <tbody>\n",
       "    <tr>\n",
       "      <th>859180</th>\n",
       "      <td>74006</td>\n",
       "      <td>74006-10</td>\n",
       "      <td>13:05</td>\n",
       "    </tr>\n",
       "    <tr>\n",
       "      <th>166351</th>\n",
       "      <td>7934</td>\n",
       "      <td>7934-02</td>\n",
       "      <td>22:03</td>\n",
       "    </tr>\n",
       "    <tr>\n",
       "      <th>1043464</th>\n",
       "      <td>4339</td>\n",
       "      <td>4339-13</td>\n",
       "      <td>NaN</td>\n",
       "    </tr>\n",
       "    <tr>\n",
       "      <th>552114</th>\n",
       "      <td>90157</td>\n",
       "      <td>90157-06</td>\n",
       "      <td>NaN</td>\n",
       "    </tr>\n",
       "    <tr>\n",
       "      <th>261328</th>\n",
       "      <td>26662</td>\n",
       "      <td>26662-03</td>\n",
       "      <td>12:34</td>\n",
       "    </tr>\n",
       "  </tbody>\n",
       "</table>\n",
       "</div>"
      ],
      "text/plain": [
       "         user_id        Tx     TO\n",
       "859180     74006  74006-10  13:05\n",
       "166351      7934   7934-02  22:03\n",
       "1043464     4339   4339-13    NaN\n",
       "552114     90157  90157-06    NaN\n",
       "261328     26662  26662-03  12:34"
      ]
     },
     "execution_count": 10,
     "metadata": {},
     "output_type": "execute_result"
    }
   ],
   "source": [
    "to_melted = pd.melt(train_set, id_vars=['user_id'], value_vars=openings, var_name='Tx', value_name='TO')\n",
    "to_melted['Tx'] = to_melted['user_id'].astype('str') + '-' + to_melted['Tx'].str[-2:]\n",
    "print(to_melted.shape)\n",
    "to_melted.sample(5)"
   ]
  },
  {
   "cell_type": "markdown",
   "metadata": {},
   "source": [
    "Merge the melted dataframes together with the user-profiles. As the order of the received emails (M=0,1,2,...) for one user can be assumed completely random, the temporary 'Tx' column can be discarded. Also, all NaN rows can be safely dropped."
   ]
  },
  {
   "cell_type": "code",
   "execution_count": 11,
   "metadata": {},
   "outputs": [
    {
     "name": "stdout",
     "output_type": "stream",
     "text": [
      "(639771, 6)\n"
     ]
    },
    {
     "data": {
      "text/html": [
       "<div>\n",
       "<style scoped>\n",
       "    .dataframe tbody tr th:only-of-type {\n",
       "        vertical-align: middle;\n",
       "    }\n",
       "\n",
       "    .dataframe tbody tr th {\n",
       "        vertical-align: top;\n",
       "    }\n",
       "\n",
       "    .dataframe thead th {\n",
       "        text-align: right;\n",
       "    }\n",
       "</style>\n",
       "<table border=\"1\" class=\"dataframe\">\n",
       "  <thead>\n",
       "    <tr style=\"text-align: right;\">\n",
       "      <th></th>\n",
       "      <th>user_id</th>\n",
       "      <th>X1</th>\n",
       "      <th>X2</th>\n",
       "      <th>X3</th>\n",
       "      <th>TS</th>\n",
       "      <th>TO</th>\n",
       "    </tr>\n",
       "  </thead>\n",
       "  <tbody>\n",
       "    <tr>\n",
       "      <th>1080365</th>\n",
       "      <td>90045</td>\n",
       "      <td>0.52</td>\n",
       "      <td>-0.19</td>\n",
       "      <td>1</td>\n",
       "      <td>20:00</td>\n",
       "      <td>12:18</td>\n",
       "    </tr>\n",
       "    <tr>\n",
       "      <th>591538</th>\n",
       "      <td>49325</td>\n",
       "      <td>0.06</td>\n",
       "      <td>-2.98</td>\n",
       "      <td>0</td>\n",
       "      <td>08:00</td>\n",
       "      <td>09:59</td>\n",
       "    </tr>\n",
       "    <tr>\n",
       "      <th>957306</th>\n",
       "      <td>79797</td>\n",
       "      <td>-0.84</td>\n",
       "      <td>2.06</td>\n",
       "      <td>0</td>\n",
       "      <td>15:00</td>\n",
       "      <td>15:46</td>\n",
       "    </tr>\n",
       "    <tr>\n",
       "      <th>633498</th>\n",
       "      <td>52813</td>\n",
       "      <td>-0.85</td>\n",
       "      <td>-1.57</td>\n",
       "      <td>0</td>\n",
       "      <td>12:00</td>\n",
       "      <td>12:48</td>\n",
       "    </tr>\n",
       "    <tr>\n",
       "      <th>620236</th>\n",
       "      <td>51713</td>\n",
       "      <td>0.37</td>\n",
       "      <td>-0.10</td>\n",
       "      <td>1</td>\n",
       "      <td>15:00</td>\n",
       "      <td>20:09</td>\n",
       "    </tr>\n",
       "  </tbody>\n",
       "</table>\n",
       "</div>"
      ],
      "text/plain": [
       "         user_id    X1    X2  X3     TS     TO\n",
       "1080365    90045  0.52 -0.19   1  20:00  12:18\n",
       "591538     49325  0.06 -2.98   0  08:00  09:59\n",
       "957306     79797 -0.84  2.06   0  15:00  15:46\n",
       "633498     52813 -0.85 -1.57   0  12:00  12:48\n",
       "620236     51713  0.37 -0.10   1  15:00  20:09"
      ]
     },
     "execution_count": 11,
     "metadata": {},
     "output_type": "execute_result"
    }
   ],
   "source": [
    "df_melted = pd.merge(ts_melted, to_melted.drop('user_id', axis=1), on='Tx', how='inner')\n",
    "df_joined = pd.merge(train_set[profiles], df_melted, on='user_id', how='inner')\n",
    "df_joined.drop('Tx', axis=1, inplace=True)\n",
    "df_joined.dropna(inplace=True)\n",
    "print(df_joined.shape)\n",
    "df_joined.sample(5)"
   ]
  },
  {
   "cell_type": "markdown",
   "metadata": {},
   "source": [
    "Calculate the time difference between email-being-sent and email-opened. I can either evaluate this in minutes or hours, but as minutes is probably too granular, I'm going to use hours instead."
   ]
  },
  {
   "cell_type": "code",
   "execution_count": 12,
   "metadata": {},
   "outputs": [],
   "source": [
    "act_data = df_joined.copy()\n",
    "act_data['TS'] = pd.to_datetime(act_data['TS'], format='%H:%M')\n",
    "act_data['TO'] = pd.to_datetime(act_data['TO'], format='%H:%M')\n",
    "\n",
    "#if TS is earlier than TO\n",
    "act_data.loc[act_data['TO']>=act_data['TS'], 'mins_to_open'] = (act_data['TO'] - act_data['TS']).dt.total_seconds()/60\n",
    "#otherwise, add 24 hours for the next day\n",
    "act_data.loc[act_data['TO']<act_data['TS'], 'mins_to_open'] = (act_data['TO'] - act_data['TS'] + timedelta(hours=24)) \\\n",
    "                                                                .dt.total_seconds()/60\n",
    "act_data['hours_to_open'] = np.ceil(act_data['mins_to_open']/60)\n",
    "\n",
    "act_data['TO_hour_of_day'] = act_data['TO'].dt.hour\n",
    "act_data['TO_min_of_day'] = act_data['TO'].dt.hour * 60 + act_data['TO'].dt.minute"
   ]
  },
  {
   "cell_type": "markdown",
   "metadata": {},
   "source": [
    "TS and TO columns may contain irrelevant dates after conversion, but as it will not affect anything, I'll just ignore them for now."
   ]
  },
  {
   "cell_type": "markdown",
   "metadata": {},
   "source": [
    "Let's visualize the distribution of users opening email over time within a day."
   ]
  },
  {
   "cell_type": "code",
   "execution_count": 13,
   "metadata": {},
   "outputs": [
    {
     "data": {
      "image/png": "[encoded data removed]",
      "text/plain": [
       "<Figure size 720x360 with 1 Axes>"
      ]
     },
     "metadata": {},
     "output_type": "display_data"
    }
   ],
   "source": [
    "act_data.set_index('TO').resample('H').count()['user_id'].plot()\n",
    "plt.ylabel('Count')\n",
    "plt.title('Distribution of email-opening activities based on hours')\n",
    "plt.show()"
   ]
  },
  {
   "cell_type": "markdown",
   "metadata": {},
   "source": [
    "As seen, there are some peaks where most people open their emails. Following this, I think I can create groups of period of time, such as: 'Midnight' - between 12-6 am, 'Morning' - between 6 am-12 pm, 'Noon' - between 12-6 pm, and 'Evening' - between 6 pm-12 am."
   ]
  },
  {
   "cell_type": "code",
   "execution_count": 14,
   "metadata": {
    "scrolled": true
   },
   "outputs": [
    {
     "data": {
      "text/html": [
       "<div>\n",
       "<style scoped>\n",
       "    .dataframe tbody tr th:only-of-type {\n",
       "        vertical-align: middle;\n",
       "    }\n",
       "\n",
       "    .dataframe tbody tr th {\n",
       "        vertical-align: top;\n",
       "    }\n",
       "\n",
       "    .dataframe thead th {\n",
       "        text-align: right;\n",
       "    }\n",
       "</style>\n",
       "<table border=\"1\" class=\"dataframe\">\n",
       "  <thead>\n",
       "    <tr style=\"text-align: right;\">\n",
       "      <th></th>\n",
       "      <th>user_id</th>\n",
       "      <th>X1</th>\n",
       "      <th>X2</th>\n",
       "      <th>X3</th>\n",
       "      <th>TS</th>\n",
       "      <th>TO</th>\n",
       "      <th>mins_to_open</th>\n",
       "      <th>hours_to_open</th>\n",
       "      <th>TO_hour_of_day</th>\n",
       "      <th>TO_min_of_day</th>\n",
       "      <th>TO_period</th>\n",
       "    </tr>\n",
       "  </thead>\n",
       "  <tbody>\n",
       "    <tr>\n",
       "      <th>1029978</th>\n",
       "      <td>85801</td>\n",
       "      <td>1.23</td>\n",
       "      <td>0.14</td>\n",
       "      <td>0</td>\n",
       "      <td>1900-01-01 12:00:00</td>\n",
       "      <td>1900-01-01 08:26:00</td>\n",
       "      <td>1226.0</td>\n",
       "      <td>21.0</td>\n",
       "      <td>8</td>\n",
       "      <td>506</td>\n",
       "      <td>Morning</td>\n",
       "    </tr>\n",
       "    <tr>\n",
       "      <th>2521</th>\n",
       "      <td>201</td>\n",
       "      <td>-0.78</td>\n",
       "      <td>-1.37</td>\n",
       "      <td>2</td>\n",
       "      <td>1900-01-01 14:00:00</td>\n",
       "      <td>1900-01-01 17:39:00</td>\n",
       "      <td>219.0</td>\n",
       "      <td>4.0</td>\n",
       "      <td>17</td>\n",
       "      <td>1059</td>\n",
       "      <td>Noon</td>\n",
       "    </tr>\n",
       "    <tr>\n",
       "      <th>259571</th>\n",
       "      <td>21673</td>\n",
       "      <td>-0.52</td>\n",
       "      <td>-1.66</td>\n",
       "      <td>3</td>\n",
       "      <td>1900-01-01 07:00:00</td>\n",
       "      <td>1900-01-01 07:19:00</td>\n",
       "      <td>19.0</td>\n",
       "      <td>1.0</td>\n",
       "      <td>7</td>\n",
       "      <td>439</td>\n",
       "      <td>Morning</td>\n",
       "    </tr>\n",
       "    <tr>\n",
       "      <th>14450</th>\n",
       "      <td>1211</td>\n",
       "      <td>-0.86</td>\n",
       "      <td>-0.64</td>\n",
       "      <td>3</td>\n",
       "      <td>1900-01-01 10:00:00</td>\n",
       "      <td>1900-01-01 10:00:00</td>\n",
       "      <td>0.0</td>\n",
       "      <td>0.0</td>\n",
       "      <td>10</td>\n",
       "      <td>600</td>\n",
       "      <td>Morning</td>\n",
       "    </tr>\n",
       "    <tr>\n",
       "      <th>799239</th>\n",
       "      <td>66612</td>\n",
       "      <td>-1.52</td>\n",
       "      <td>-3.86</td>\n",
       "      <td>3</td>\n",
       "      <td>1900-01-01 11:00:00</td>\n",
       "      <td>1900-01-01 12:08:00</td>\n",
       "      <td>68.0</td>\n",
       "      <td>2.0</td>\n",
       "      <td>12</td>\n",
       "      <td>728</td>\n",
       "      <td>Morning</td>\n",
       "    </tr>\n",
       "  </tbody>\n",
       "</table>\n",
       "</div>"
      ],
      "text/plain": [
       "         user_id    X1    X2  X3                  TS                  TO  \\\n",
       "1029978    85801  1.23  0.14   0 1900-01-01 12:00:00 1900-01-01 08:26:00   \n",
       "2521         201 -0.78 -1.37   2 1900-01-01 14:00:00 1900-01-01 17:39:00   \n",
       "259571     21673 -0.52 -1.66   3 1900-01-01 07:00:00 1900-01-01 07:19:00   \n",
       "14450       1211 -0.86 -0.64   3 1900-01-01 10:00:00 1900-01-01 10:00:00   \n",
       "799239     66612 -1.52 -3.86   3 1900-01-01 11:00:00 1900-01-01 12:08:00   \n",
       "\n",
       "         mins_to_open  hours_to_open  TO_hour_of_day  TO_min_of_day TO_period  \n",
       "1029978        1226.0           21.0               8            506   Morning  \n",
       "2521            219.0            4.0              17           1059      Noon  \n",
       "259571           19.0            1.0               7            439   Morning  \n",
       "14450             0.0            0.0              10            600   Morning  \n",
       "799239           68.0            2.0              12            728   Morning  "
      ]
     },
     "execution_count": 14,
     "metadata": {},
     "output_type": "execute_result"
    }
   ],
   "source": [
    "b = [0, 6 ,12, 18, 24]\n",
    "l = ['Midnight', 'Morning', 'Noon', 'Evening']\n",
    "\n",
    "act_data['TO_period'] = pd.cut(act_data['TO'].dt.hour, bins=b, labels=l, include_lowest=True)\n",
    "act_data.sample(5)"
   ]
  },
  {
   "cell_type": "markdown",
   "metadata": {},
   "source": [
    "Then the question is, can I create groups of users according to their behaviors in opening emails? There are several ways to do this: 1) find the most frequent 'TO_period', 2) find the mean of the hours to open emails and convert to period of time, 3) find the median of the hours to open emails and convert to period of time, and 4) using unsupervised learning to cluster the users."
   ]
  },
  {
   "cell_type": "markdown",
   "metadata": {},
   "source": [
    "#### User-level Data"
   ]
  },
  {
   "cell_type": "markdown",
   "metadata": {},
   "source": [
    "Let's go back to the user-level features (after removing the TSs and TOs), and engineer new features as well."
   ]
  },
  {
   "cell_type": "markdown",
   "metadata": {},
   "source": [
    "As generating the most frequent period of time may take some time to complete, to save time for the consequent iterations, I have saved this dataframe into a .csv file, and load whenever necessary."
   ]
  },
  {
   "cell_type": "code",
   "execution_count": 15,
   "metadata": {},
   "outputs": [],
   "source": [
    "def period_from_hour(h):\n",
    "    if h >= 0 and h < 6:\n",
    "        return 'Midnight'\n",
    "    elif h >= 6 and h < 12:\n",
    "        return 'Morning'\n",
    "    elif h >= 12 and h < 18:\n",
    "        return 'Noon'\n",
    "    elif h >= 18 and h < 24:\n",
    "        return 'Evening'"
   ]
  },
  {
   "cell_type": "code",
   "execution_count": 16,
   "metadata": {
    "scrolled": false
   },
   "outputs": [
    {
     "name": "stdout",
     "output_type": "stream",
     "text": [
      "(80000, 10)\n"
     ]
    },
    {
     "data": {
      "text/html": [
       "<div>\n",
       "<style scoped>\n",
       "    .dataframe tbody tr th:only-of-type {\n",
       "        vertical-align: middle;\n",
       "    }\n",
       "\n",
       "    .dataframe tbody tr th {\n",
       "        vertical-align: top;\n",
       "    }\n",
       "\n",
       "    .dataframe thead th {\n",
       "        text-align: right;\n",
       "    }\n",
       "</style>\n",
       "<table border=\"1\" class=\"dataframe\">\n",
       "  <thead>\n",
       "    <tr style=\"text-align: right;\">\n",
       "      <th></th>\n",
       "      <th>user_id</th>\n",
       "      <th>X1</th>\n",
       "      <th>X2</th>\n",
       "      <th>X3</th>\n",
       "      <th>avg_hours_to_open</th>\n",
       "      <th>med_hours_to_open</th>\n",
       "      <th>std_hours_to_open</th>\n",
       "      <th>mean_TO_period</th>\n",
       "      <th>med_TO_period</th>\n",
       "      <th>mod_TO_period</th>\n",
       "    </tr>\n",
       "  </thead>\n",
       "  <tbody>\n",
       "    <tr>\n",
       "      <th>59964</th>\n",
       "      <td>74995</td>\n",
       "      <td>0.68</td>\n",
       "      <td>-0.68</td>\n",
       "      <td>3</td>\n",
       "      <td>1.000000</td>\n",
       "      <td>1.0</td>\n",
       "      <td>0.000000</td>\n",
       "      <td>Noon</td>\n",
       "      <td>Noon</td>\n",
       "      <td>Noon</td>\n",
       "    </tr>\n",
       "    <tr>\n",
       "      <th>3115</th>\n",
       "      <td>3902</td>\n",
       "      <td>-0.18</td>\n",
       "      <td>0.12</td>\n",
       "      <td>3</td>\n",
       "      <td>1.090909</td>\n",
       "      <td>1.0</td>\n",
       "      <td>0.539360</td>\n",
       "      <td>Noon</td>\n",
       "      <td>Noon</td>\n",
       "      <td>Morning</td>\n",
       "    </tr>\n",
       "    <tr>\n",
       "      <th>21347</th>\n",
       "      <td>26691</td>\n",
       "      <td>-0.65</td>\n",
       "      <td>0.85</td>\n",
       "      <td>3</td>\n",
       "      <td>1.250000</td>\n",
       "      <td>1.0</td>\n",
       "      <td>0.452267</td>\n",
       "      <td>Noon</td>\n",
       "      <td>Noon</td>\n",
       "      <td>Morning</td>\n",
       "    </tr>\n",
       "    <tr>\n",
       "      <th>61965</th>\n",
       "      <td>77471</td>\n",
       "      <td>0.06</td>\n",
       "      <td>0.69</td>\n",
       "      <td>1</td>\n",
       "      <td>7.666667</td>\n",
       "      <td>2.0</td>\n",
       "      <td>10.692677</td>\n",
       "      <td>Morning</td>\n",
       "      <td>Morning</td>\n",
       "      <td>Morning</td>\n",
       "    </tr>\n",
       "    <tr>\n",
       "      <th>61438</th>\n",
       "      <td>76833</td>\n",
       "      <td>-0.19</td>\n",
       "      <td>1.15</td>\n",
       "      <td>0</td>\n",
       "      <td>1.000000</td>\n",
       "      <td>1.0</td>\n",
       "      <td>0.000000</td>\n",
       "      <td>Noon</td>\n",
       "      <td>Noon</td>\n",
       "      <td>Noon</td>\n",
       "    </tr>\n",
       "  </tbody>\n",
       "</table>\n",
       "</div>"
      ],
      "text/plain": [
       "       user_id    X1    X2  X3  avg_hours_to_open  med_hours_to_open  \\\n",
       "59964    74995  0.68 -0.68   3           1.000000                1.0   \n",
       "3115      3902 -0.18  0.12   3           1.090909                1.0   \n",
       "21347    26691 -0.65  0.85   3           1.250000                1.0   \n",
       "61965    77471  0.06  0.69   1           7.666667                2.0   \n",
       "61438    76833 -0.19  1.15   0           1.000000                1.0   \n",
       "\n",
       "       std_hours_to_open mean_TO_period med_TO_period mod_TO_period  \n",
       "59964           0.000000           Noon          Noon          Noon  \n",
       "3115            0.539360           Noon          Noon       Morning  \n",
       "21347           0.452267           Noon          Noon       Morning  \n",
       "61965          10.692677        Morning       Morning       Morning  \n",
       "61438           0.000000           Noon          Noon          Noon  "
      ]
     },
     "execution_count": 16,
     "metadata": {},
     "output_type": "execute_result"
    }
   ],
   "source": [
    "generated = False  #True, for the first run, and to generate the dataframe and save into csv\n",
    "\n",
    "if generated:\n",
    "\n",
    "    user_data = pd.DataFrame()\n",
    "    \n",
    "    user_data['avg_hours_to_open'] = act_data.groupby('user_id').mean()['hours_to_open']\n",
    "    user_data['med_hours_to_open'] = act_data.groupby('user_id').median()['hours_to_open']\n",
    "    user_data['std_hours_to_open'] = act_data.groupby('user_id').std()['hours_to_open']\n",
    "    user_data['std_hours_to_open'].fillna(0, inplace=True)  #same as above\n",
    "    \n",
    "    user_data['mean_TO_period'] = (act_data.groupby('user_id').mean()['TO_hour_of_day']).apply(period_from_hour)\n",
    "    user_data['med_TO_period'] = (act_data.groupby('user_id').median()['TO_hour_of_day']).apply(period_from_hour)\n",
    "    user_data['mod_TO_period'] = act_data.groupby('user_id').agg(lambda x: x.value_counts().index[0])['TO_period']\n",
    "    \n",
    "    user_data.reset_index(inplace=True)\n",
    "    \n",
    "    user_data = pd.merge(train_set[profiles], user_data, on='user_id', how='inner')\n",
    "    \n",
    "else:\n",
    "    \n",
    "    user_data = pd.read_csv('datasets/user-lvl-data.csv')\n",
    "\n",
    "print(user_data.shape)\n",
    "user_data.sample(5)"
   ]
  },
  {
   "cell_type": "markdown",
   "metadata": {},
   "source": [
    "#### Clustering-based Approach"
   ]
  },
  {
   "cell_type": "markdown",
   "metadata": {},
   "source": [
    "Next, create clusters of users based on their behavior in opening emails using K-Means. But, first let's create a pivot table capturing time to open email from each user."
   ]
  },
  {
   "cell_type": "code",
   "execution_count": 17,
   "metadata": {},
   "outputs": [
    {
     "name": "stdout",
     "output_type": "stream",
     "text": [
      "(80000, 25)\n"
     ]
    },
    {
     "data": {
      "text/html": [
       "<div>\n",
       "<style scoped>\n",
       "    .dataframe tbody tr th:only-of-type {\n",
       "        vertical-align: middle;\n",
       "    }\n",
       "\n",
       "    .dataframe tbody tr th {\n",
       "        vertical-align: top;\n",
       "    }\n",
       "\n",
       "    .dataframe thead th {\n",
       "        text-align: right;\n",
       "    }\n",
       "</style>\n",
       "<table border=\"1\" class=\"dataframe\">\n",
       "  <thead>\n",
       "    <tr style=\"text-align: right;\">\n",
       "      <th></th>\n",
       "      <th>user_id</th>\n",
       "      <th>('TO', 0)</th>\n",
       "      <th>('TO', 1)</th>\n",
       "      <th>('TO', 2)</th>\n",
       "      <th>('TO', 3)</th>\n",
       "      <th>('TO', 4)</th>\n",
       "      <th>('TO', 5)</th>\n",
       "      <th>('TO', 6)</th>\n",
       "      <th>('TO', 7)</th>\n",
       "      <th>('TO', 8)</th>\n",
       "      <th>('TO', 9)</th>\n",
       "      <th>('TO', 10)</th>\n",
       "      <th>('TO', 11)</th>\n",
       "      <th>('TO', 12)</th>\n",
       "      <th>('TO', 13)</th>\n",
       "      <th>('TO', 14)</th>\n",
       "      <th>('TO', 15)</th>\n",
       "      <th>('TO', 16)</th>\n",
       "      <th>('TO', 17)</th>\n",
       "      <th>('TO', 18)</th>\n",
       "      <th>('TO', 19)</th>\n",
       "      <th>('TO', 20)</th>\n",
       "      <th>('TO', 21)</th>\n",
       "      <th>('TO', 22)</th>\n",
       "      <th>('TO', 23)</th>\n",
       "    </tr>\n",
       "  </thead>\n",
       "  <tbody>\n",
       "    <tr>\n",
       "      <th>14853</th>\n",
       "      <td>18569</td>\n",
       "      <td>0.0</td>\n",
       "      <td>0.0</td>\n",
       "      <td>0.0</td>\n",
       "      <td>0.0</td>\n",
       "      <td>0.0</td>\n",
       "      <td>0.0</td>\n",
       "      <td>0.0</td>\n",
       "      <td>0.0</td>\n",
       "      <td>3.0</td>\n",
       "      <td>2.0</td>\n",
       "      <td>1.0</td>\n",
       "      <td>0.0</td>\n",
       "      <td>0.0</td>\n",
       "      <td>0.0</td>\n",
       "      <td>0.0</td>\n",
       "      <td>0.0</td>\n",
       "      <td>0.0</td>\n",
       "      <td>0.0</td>\n",
       "      <td>0.0</td>\n",
       "      <td>4.0</td>\n",
       "      <td>2.0</td>\n",
       "      <td>0.0</td>\n",
       "      <td>0.0</td>\n",
       "      <td>0.0</td>\n",
       "    </tr>\n",
       "    <tr>\n",
       "      <th>26289</th>\n",
       "      <td>32860</td>\n",
       "      <td>0.0</td>\n",
       "      <td>0.0</td>\n",
       "      <td>0.0</td>\n",
       "      <td>0.0</td>\n",
       "      <td>0.0</td>\n",
       "      <td>0.0</td>\n",
       "      <td>0.0</td>\n",
       "      <td>0.0</td>\n",
       "      <td>0.0</td>\n",
       "      <td>0.0</td>\n",
       "      <td>0.0</td>\n",
       "      <td>0.0</td>\n",
       "      <td>0.0</td>\n",
       "      <td>1.0</td>\n",
       "      <td>1.0</td>\n",
       "      <td>1.0</td>\n",
       "      <td>0.0</td>\n",
       "      <td>1.0</td>\n",
       "      <td>0.0</td>\n",
       "      <td>3.0</td>\n",
       "      <td>3.0</td>\n",
       "      <td>2.0</td>\n",
       "      <td>1.0</td>\n",
       "      <td>2.0</td>\n",
       "    </tr>\n",
       "    <tr>\n",
       "      <th>14151</th>\n",
       "      <td>17706</td>\n",
       "      <td>0.0</td>\n",
       "      <td>1.0</td>\n",
       "      <td>0.0</td>\n",
       "      <td>0.0</td>\n",
       "      <td>1.0</td>\n",
       "      <td>0.0</td>\n",
       "      <td>0.0</td>\n",
       "      <td>0.0</td>\n",
       "      <td>0.0</td>\n",
       "      <td>1.0</td>\n",
       "      <td>2.0</td>\n",
       "      <td>0.0</td>\n",
       "      <td>0.0</td>\n",
       "      <td>0.0</td>\n",
       "      <td>1.0</td>\n",
       "      <td>0.0</td>\n",
       "      <td>1.0</td>\n",
       "      <td>0.0</td>\n",
       "      <td>0.0</td>\n",
       "      <td>0.0</td>\n",
       "      <td>3.0</td>\n",
       "      <td>0.0</td>\n",
       "      <td>2.0</td>\n",
       "      <td>0.0</td>\n",
       "    </tr>\n",
       "    <tr>\n",
       "      <th>48473</th>\n",
       "      <td>60638</td>\n",
       "      <td>0.0</td>\n",
       "      <td>0.0</td>\n",
       "      <td>0.0</td>\n",
       "      <td>0.0</td>\n",
       "      <td>0.0</td>\n",
       "      <td>0.0</td>\n",
       "      <td>0.0</td>\n",
       "      <td>0.0</td>\n",
       "      <td>2.0</td>\n",
       "      <td>0.0</td>\n",
       "      <td>0.0</td>\n",
       "      <td>1.0</td>\n",
       "      <td>0.0</td>\n",
       "      <td>0.0</td>\n",
       "      <td>0.0</td>\n",
       "      <td>0.0</td>\n",
       "      <td>0.0</td>\n",
       "      <td>0.0</td>\n",
       "      <td>1.0</td>\n",
       "      <td>0.0</td>\n",
       "      <td>0.0</td>\n",
       "      <td>0.0</td>\n",
       "      <td>0.0</td>\n",
       "      <td>0.0</td>\n",
       "    </tr>\n",
       "    <tr>\n",
       "      <th>78053</th>\n",
       "      <td>97589</td>\n",
       "      <td>0.0</td>\n",
       "      <td>1.0</td>\n",
       "      <td>0.0</td>\n",
       "      <td>0.0</td>\n",
       "      <td>0.0</td>\n",
       "      <td>0.0</td>\n",
       "      <td>0.0</td>\n",
       "      <td>0.0</td>\n",
       "      <td>1.0</td>\n",
       "      <td>0.0</td>\n",
       "      <td>0.0</td>\n",
       "      <td>1.0</td>\n",
       "      <td>1.0</td>\n",
       "      <td>0.0</td>\n",
       "      <td>0.0</td>\n",
       "      <td>0.0</td>\n",
       "      <td>0.0</td>\n",
       "      <td>0.0</td>\n",
       "      <td>1.0</td>\n",
       "      <td>2.0</td>\n",
       "      <td>0.0</td>\n",
       "      <td>1.0</td>\n",
       "      <td>0.0</td>\n",
       "      <td>0.0</td>\n",
       "    </tr>\n",
       "  </tbody>\n",
       "</table>\n",
       "</div>"
      ],
      "text/plain": [
       "       user_id  ('TO', 0)  ('TO', 1)  ('TO', 2)  ('TO', 3)  ('TO', 4)  \\\n",
       "14853    18569        0.0        0.0        0.0        0.0        0.0   \n",
       "26289    32860        0.0        0.0        0.0        0.0        0.0   \n",
       "14151    17706        0.0        1.0        0.0        0.0        1.0   \n",
       "48473    60638        0.0        0.0        0.0        0.0        0.0   \n",
       "78053    97589        0.0        1.0        0.0        0.0        0.0   \n",
       "\n",
       "       ('TO', 5)  ('TO', 6)  ('TO', 7)  ('TO', 8)  ('TO', 9)  ('TO', 10)  \\\n",
       "14853        0.0        0.0        0.0        3.0        2.0         1.0   \n",
       "26289        0.0        0.0        0.0        0.0        0.0         0.0   \n",
       "14151        0.0        0.0        0.0        0.0        1.0         2.0   \n",
       "48473        0.0        0.0        0.0        2.0        0.0         0.0   \n",
       "78053        0.0        0.0        0.0        1.0        0.0         0.0   \n",
       "\n",
       "       ('TO', 11)  ('TO', 12)  ('TO', 13)  ('TO', 14)  ('TO', 15)  ('TO', 16)  \\\n",
       "14853         0.0         0.0         0.0         0.0         0.0         0.0   \n",
       "26289         0.0         0.0         1.0         1.0         1.0         0.0   \n",
       "14151         0.0         0.0         0.0         1.0         0.0         1.0   \n",
       "48473         1.0         0.0         0.0         0.0         0.0         0.0   \n",
       "78053         1.0         1.0         0.0         0.0         0.0         0.0   \n",
       "\n",
       "       ('TO', 17)  ('TO', 18)  ('TO', 19)  ('TO', 20)  ('TO', 21)  ('TO', 22)  \\\n",
       "14853         0.0         0.0         4.0         2.0         0.0         0.0   \n",
       "26289         1.0         0.0         3.0         3.0         2.0         1.0   \n",
       "14151         0.0         0.0         0.0         3.0         0.0         2.0   \n",
       "48473         0.0         1.0         0.0         0.0         0.0         0.0   \n",
       "78053         0.0         1.0         2.0         0.0         1.0         0.0   \n",
       "\n",
       "       ('TO', 23)  \n",
       "14853         0.0  \n",
       "26289         2.0  \n",
       "14151         0.0  \n",
       "48473         0.0  \n",
       "78053         0.0  "
      ]
     },
     "execution_count": 17,
     "metadata": {},
     "output_type": "execute_result"
    }
   ],
   "source": [
    "act_pvt = act_data[['user_id', 'TO']]\n",
    "act_pvt['hour_opened'] = act_pvt['TO'].dt.hour\n",
    "act_pvt = pd.DataFrame(pd.pivot_table(act_pvt, index='user_id', columns='hour_opened', aggfunc='count') \\\n",
    "                       .fillna(0).to_records())\n",
    "print(act_pvt.shape)\n",
    "act_pvt.sample(5)"
   ]
  },
  {
   "cell_type": "markdown",
   "metadata": {},
   "source": [
    "Find the most optimum k with the elbow method."
   ]
  },
  {
   "cell_type": "code",
   "execution_count": 18,
   "metadata": {},
   "outputs": [],
   "source": [
    "def calculate_WSS(points, kmax):\n",
    "    ssd = []\n",
    "    K = range(2, kmax+1)\n",
    "    for k in K:\n",
    "        km = KMeans(n_clusters=k)\n",
    "        km = km.fit(points)\n",
    "        ssd.append(km.inertia_)\n",
    "        \n",
    "    return ssd\n",
    "\n",
    "ssd = calculate_WSS(act_pvt.drop('user_id', axis=1), 10)"
   ]
  },
  {
   "cell_type": "code",
   "execution_count": 19,
   "metadata": {},
   "outputs": [
    {
     "data": {
      "image/png": "[encoded data removed]",
      "text/plain": [
       "<Figure size 720x360 with 1 Axes>"
      ]
     },
     "metadata": {},
     "output_type": "display_data"
    }
   ],
   "source": [
    "plt.plot(list(range(2, len(ssd)+2)), ssd)\n",
    "plt.xlabel('K')\n",
    "plt.ylabel('Sum of squared distance error')\n",
    "plt.show()"
   ]
  },
  {
   "cell_type": "markdown",
   "metadata": {},
   "source": [
    "It seems difficult to find the right k from this figure. I'll try using k=3, and visualize to see if it correctly clusters the users. Separately, I've also tried k=4, but as k=3 gave better clusters, I'll go with it."
   ]
  },
  {
   "cell_type": "code",
   "execution_count": 20,
   "metadata": {},
   "outputs": [
    {
     "name": "stdout",
     "output_type": "stream",
     "text": [
      "(639771, 3)\n"
     ]
    },
    {
     "data": {
      "text/html": [
       "<div>\n",
       "<style scoped>\n",
       "    .dataframe tbody tr th:only-of-type {\n",
       "        vertical-align: middle;\n",
       "    }\n",
       "\n",
       "    .dataframe tbody tr th {\n",
       "        vertical-align: top;\n",
       "    }\n",
       "\n",
       "    .dataframe thead th {\n",
       "        text-align: right;\n",
       "    }\n",
       "</style>\n",
       "<table border=\"1\" class=\"dataframe\">\n",
       "  <thead>\n",
       "    <tr style=\"text-align: right;\">\n",
       "      <th></th>\n",
       "      <th>user_id</th>\n",
       "      <th>TO</th>\n",
       "      <th>cluster</th>\n",
       "    </tr>\n",
       "  </thead>\n",
       "  <tbody>\n",
       "    <tr>\n",
       "      <th>237272</th>\n",
       "      <td>37196</td>\n",
       "      <td>1900-01-01 23:14:00</td>\n",
       "      <td>2</td>\n",
       "    </tr>\n",
       "    <tr>\n",
       "      <th>376076</th>\n",
       "      <td>58993</td>\n",
       "      <td>1900-01-01 19:05:00</td>\n",
       "      <td>1</td>\n",
       "    </tr>\n",
       "    <tr>\n",
       "      <th>212139</th>\n",
       "      <td>33310</td>\n",
       "      <td>1900-01-01 09:41:00</td>\n",
       "      <td>1</td>\n",
       "    </tr>\n",
       "    <tr>\n",
       "      <th>493124</th>\n",
       "      <td>77214</td>\n",
       "      <td>1900-01-01 14:48:00</td>\n",
       "      <td>1</td>\n",
       "    </tr>\n",
       "    <tr>\n",
       "      <th>151294</th>\n",
       "      <td>23875</td>\n",
       "      <td>1900-01-01 19:02:00</td>\n",
       "      <td>2</td>\n",
       "    </tr>\n",
       "  </tbody>\n",
       "</table>\n",
       "</div>"
      ],
      "text/plain": [
       "        user_id                  TO  cluster\n",
       "237272    37196 1900-01-01 23:14:00        2\n",
       "376076    58993 1900-01-01 19:05:00        1\n",
       "212139    33310 1900-01-01 09:41:00        1\n",
       "493124    77214 1900-01-01 14:48:00        1\n",
       "151294    23875 1900-01-01 19:02:00        2"
      ]
     },
     "execution_count": 20,
     "metadata": {},
     "output_type": "execute_result"
    }
   ],
   "source": [
    "num_of_cluster = 3\n",
    "kmeans = KMeans(n_clusters=num_of_cluster, random_state=42).fit(act_pvt.drop('user_id', axis=1))\n",
    "act_pvt['cluster'] = kmeans.labels_\n",
    "\n",
    "act_cluster = pd.merge(act_data[['user_id', 'TO']], act_pvt[['user_id', 'cluster']], how='inner', on='user_id')\n",
    "print(act_cluster.shape)\n",
    "act_cluster.sample(5)"
   ]
  },
  {
   "cell_type": "code",
   "execution_count": 21,
   "metadata": {},
   "outputs": [
    {
     "data": {
      "image/png": "[encoded data removed]",
      "text/plain": [
       "<Figure size 720x360 with 1 Axes>"
      ]
     },
     "metadata": {},
     "output_type": "display_data"
    }
   ],
   "source": [
    "for i in range(num_of_cluster):\n",
    "    act_cluster[act_cluster['cluster']==i].set_index('TO').resample('H').count()['user_id'].plot(label='cluster-' + str(i))\n",
    "\n",
    "plt.ylabel('Count')\n",
    "plt.title('Distribution of email-opening activities based on hours and types')\n",
    "plt.legend()\n",
    "plt.show()"
   ]
  },
  {
   "cell_type": "markdown",
   "metadata": {},
   "source": [
    "Looks good so far. The algorithm clearly separated users who are typically active in the morning, in the evening, and indistinguishable (or with tendency to the morning). Let's merge this with the user-level data."
   ]
  },
  {
   "cell_type": "code",
   "execution_count": 22,
   "metadata": {},
   "outputs": [
    {
     "name": "stdout",
     "output_type": "stream",
     "text": [
      "(80000, 11)\n"
     ]
    },
    {
     "data": {
      "text/html": [
       "<div>\n",
       "<style scoped>\n",
       "    .dataframe tbody tr th:only-of-type {\n",
       "        vertical-align: middle;\n",
       "    }\n",
       "\n",
       "    .dataframe tbody tr th {\n",
       "        vertical-align: top;\n",
       "    }\n",
       "\n",
       "    .dataframe thead th {\n",
       "        text-align: right;\n",
       "    }\n",
       "</style>\n",
       "<table border=\"1\" class=\"dataframe\">\n",
       "  <thead>\n",
       "    <tr style=\"text-align: right;\">\n",
       "      <th></th>\n",
       "      <th>user_id</th>\n",
       "      <th>X1</th>\n",
       "      <th>X2</th>\n",
       "      <th>X3</th>\n",
       "      <th>avg_hours_to_open</th>\n",
       "      <th>med_hours_to_open</th>\n",
       "      <th>std_hours_to_open</th>\n",
       "      <th>mean_TO_period</th>\n",
       "      <th>med_TO_period</th>\n",
       "      <th>mod_TO_period</th>\n",
       "      <th>cluster</th>\n",
       "    </tr>\n",
       "  </thead>\n",
       "  <tbody>\n",
       "    <tr>\n",
       "      <th>39937</th>\n",
       "      <td>49965</td>\n",
       "      <td>-2.29</td>\n",
       "      <td>-1.14</td>\n",
       "      <td>1</td>\n",
       "      <td>12.928571</td>\n",
       "      <td>12.0</td>\n",
       "      <td>6.696317</td>\n",
       "      <td>Noon</td>\n",
       "      <td>Evening</td>\n",
       "      <td>Evening</td>\n",
       "      <td>1</td>\n",
       "    </tr>\n",
       "    <tr>\n",
       "      <th>70167</th>\n",
       "      <td>87667</td>\n",
       "      <td>-0.36</td>\n",
       "      <td>1.17</td>\n",
       "      <td>1</td>\n",
       "      <td>10.666667</td>\n",
       "      <td>11.0</td>\n",
       "      <td>7.257180</td>\n",
       "      <td>Noon</td>\n",
       "      <td>Evening</td>\n",
       "      <td>Evening</td>\n",
       "      <td>0</td>\n",
       "    </tr>\n",
       "    <tr>\n",
       "      <th>12592</th>\n",
       "      <td>15765</td>\n",
       "      <td>0.04</td>\n",
       "      <td>-2.51</td>\n",
       "      <td>1</td>\n",
       "      <td>16.125000</td>\n",
       "      <td>19.5</td>\n",
       "      <td>8.096516</td>\n",
       "      <td>Noon</td>\n",
       "      <td>Noon</td>\n",
       "      <td>Noon</td>\n",
       "      <td>2</td>\n",
       "    </tr>\n",
       "    <tr>\n",
       "      <th>65395</th>\n",
       "      <td>81775</td>\n",
       "      <td>0.58</td>\n",
       "      <td>-0.44</td>\n",
       "      <td>2</td>\n",
       "      <td>7.428571</td>\n",
       "      <td>4.0</td>\n",
       "      <td>7.303469</td>\n",
       "      <td>Noon</td>\n",
       "      <td>Noon</td>\n",
       "      <td>Evening</td>\n",
       "      <td>2</td>\n",
       "    </tr>\n",
       "    <tr>\n",
       "      <th>64195</th>\n",
       "      <td>80256</td>\n",
       "      <td>-0.30</td>\n",
       "      <td>1.06</td>\n",
       "      <td>0</td>\n",
       "      <td>0.666667</td>\n",
       "      <td>1.0</td>\n",
       "      <td>0.577350</td>\n",
       "      <td>Morning</td>\n",
       "      <td>Morning</td>\n",
       "      <td>Morning</td>\n",
       "      <td>0</td>\n",
       "    </tr>\n",
       "  </tbody>\n",
       "</table>\n",
       "</div>"
      ],
      "text/plain": [
       "       user_id    X1    X2  X3  avg_hours_to_open  med_hours_to_open  \\\n",
       "39937    49965 -2.29 -1.14   1          12.928571               12.0   \n",
       "70167    87667 -0.36  1.17   1          10.666667               11.0   \n",
       "12592    15765  0.04 -2.51   1          16.125000               19.5   \n",
       "65395    81775  0.58 -0.44   2           7.428571                4.0   \n",
       "64195    80256 -0.30  1.06   0           0.666667                1.0   \n",
       "\n",
       "       std_hours_to_open mean_TO_period med_TO_period mod_TO_period  cluster  \n",
       "39937           6.696317           Noon       Evening       Evening        1  \n",
       "70167           7.257180           Noon       Evening       Evening        0  \n",
       "12592           8.096516           Noon          Noon          Noon        2  \n",
       "65395           7.303469           Noon          Noon       Evening        2  \n",
       "64195           0.577350        Morning       Morning       Morning        0  "
      ]
     },
     "execution_count": 22,
     "metadata": {},
     "output_type": "execute_result"
    }
   ],
   "source": [
    "user_data = pd.merge(user_data, act_pvt[['user_id', 'cluster']], how='inner', on='user_id')\n",
    "print(user_data.shape)\n",
    "user_data.sample(5)"
   ]
  },
  {
   "cell_type": "markdown",
   "metadata": {},
   "source": [
    "#### Mixture Model"
   ]
  },
  {
   "cell_type": "markdown",
   "metadata": {},
   "source": [
    "I'm curious more about the average hour to open emails. Let's visualize it."
   ]
  },
  {
   "cell_type": "code",
   "execution_count": 23,
   "metadata": {},
   "outputs": [
    {
     "data": {
      "image/png": "[encoded data removed]",
      "text/plain": [
       "<Figure size 720x360 with 1 Axes>"
      ]
     },
     "metadata": {},
     "output_type": "display_data"
    }
   ],
   "source": [
    "sns.distplot(user_data['avg_hours_to_open'], bins=24)\n",
    "plt.show()"
   ]
  },
  {
   "cell_type": "markdown",
   "metadata": {},
   "source": [
    "The distribution is bimodal, which means there are 2 types of users: 1) those who open their emails relatively quickly, and 2) the rest of the population, who may open their emails based on time. Next, I'm going to use Gaussian Mixture Model to separate these 2 populations. For simplification, I'll refer them as user type-0 and type-1."
   ]
  },
  {
   "cell_type": "code",
   "execution_count": 30,
   "metadata": {},
   "outputs": [
    {
     "data": {
      "text/plain": [
       "GaussianMixture(covariance_type='full', init_params='kmeans', max_iter=100,\n",
       "                means_init=None, n_components=2, n_init=1, precisions_init=None,\n",
       "                random_state=None, reg_covar=1e-06, tol=0.001, verbose=0,\n",
       "                verbose_interval=10, warm_start=False, weights_init=None)"
      ]
     },
     "execution_count": 30,
     "metadata": {},
     "output_type": "execute_result"
    }
   ],
   "source": [
    "gmm = GaussianMixture(n_components=2)\n",
    "gmm.fit(user_data[['avg_hours_to_open']])"
   ]
  },
  {
   "cell_type": "code",
   "execution_count": 31,
   "metadata": {},
   "outputs": [
    {
     "data": {
      "image/png": "[encoded data removed]",
      "text/plain": [
       "<Figure size 720x360 with 1 Axes>"
      ]
     },
     "metadata": {},
     "output_type": "display_data"
    }
   ],
   "source": [
    "dists = gmm.predict(user_data[['avg_hours_to_open']])\n",
    "user_data['dist'] = dists\n",
    "user_data[user_data['dist']==0]['avg_hours_to_open'].hist(bins=4, label='User type-0')\n",
    "user_data[user_data['dist']==1]['avg_hours_to_open'].hist(bins=20, label='User type-1')\n",
    "plt.legend()\n",
    "plt.show()"
   ]
  },
  {
   "cell_type": "markdown",
   "metadata": {},
   "source": [
    "Okay, it is relatively representative of the original distribution. Let's add this into a new column in the user-level data."
   ]
  },
  {
   "cell_type": "code",
   "execution_count": 32,
   "metadata": {
    "scrolled": true
   },
   "outputs": [
    {
     "data": {
      "text/html": [
       "<div>\n",
       "<style scoped>\n",
       "    .dataframe tbody tr th:only-of-type {\n",
       "        vertical-align: middle;\n",
       "    }\n",
       "\n",
       "    .dataframe tbody tr th {\n",
       "        vertical-align: top;\n",
       "    }\n",
       "\n",
       "    .dataframe thead th {\n",
       "        text-align: right;\n",
       "    }\n",
       "</style>\n",
       "<table border=\"1\" class=\"dataframe\">\n",
       "  <thead>\n",
       "    <tr style=\"text-align: right;\">\n",
       "      <th></th>\n",
       "      <th>user_id</th>\n",
       "      <th>X1</th>\n",
       "      <th>X2</th>\n",
       "      <th>X3</th>\n",
       "      <th>avg_hours_to_open</th>\n",
       "      <th>med_hours_to_open</th>\n",
       "      <th>std_hours_to_open</th>\n",
       "      <th>mean_TO_period</th>\n",
       "      <th>med_TO_period</th>\n",
       "      <th>mod_TO_period</th>\n",
       "      <th>cluster</th>\n",
       "      <th>dist</th>\n",
       "    </tr>\n",
       "  </thead>\n",
       "  <tbody>\n",
       "    <tr>\n",
       "      <th>78328</th>\n",
       "      <td>97927</td>\n",
       "      <td>-0.18</td>\n",
       "      <td>1.86</td>\n",
       "      <td>3</td>\n",
       "      <td>1.466667</td>\n",
       "      <td>1.0</td>\n",
       "      <td>0.639940</td>\n",
       "      <td>Noon</td>\n",
       "      <td>Noon</td>\n",
       "      <td>Noon</td>\n",
       "      <td>2</td>\n",
       "      <td>0</td>\n",
       "    </tr>\n",
       "    <tr>\n",
       "      <th>35874</th>\n",
       "      <td>44913</td>\n",
       "      <td>-0.19</td>\n",
       "      <td>-0.81</td>\n",
       "      <td>3</td>\n",
       "      <td>1.500000</td>\n",
       "      <td>1.5</td>\n",
       "      <td>0.547723</td>\n",
       "      <td>Noon</td>\n",
       "      <td>Noon</td>\n",
       "      <td>Morning</td>\n",
       "      <td>0</td>\n",
       "      <td>0</td>\n",
       "    </tr>\n",
       "    <tr>\n",
       "      <th>10839</th>\n",
       "      <td>13589</td>\n",
       "      <td>-0.75</td>\n",
       "      <td>1.65</td>\n",
       "      <td>3</td>\n",
       "      <td>1.714286</td>\n",
       "      <td>1.0</td>\n",
       "      <td>1.253566</td>\n",
       "      <td>Noon</td>\n",
       "      <td>Noon</td>\n",
       "      <td>Evening</td>\n",
       "      <td>2</td>\n",
       "      <td>0</td>\n",
       "    </tr>\n",
       "    <tr>\n",
       "      <th>2430</th>\n",
       "      <td>3052</td>\n",
       "      <td>-0.80</td>\n",
       "      <td>0.85</td>\n",
       "      <td>2</td>\n",
       "      <td>9.000000</td>\n",
       "      <td>7.0</td>\n",
       "      <td>9.416298</td>\n",
       "      <td>Morning</td>\n",
       "      <td>Morning</td>\n",
       "      <td>Morning</td>\n",
       "      <td>0</td>\n",
       "      <td>1</td>\n",
       "    </tr>\n",
       "    <tr>\n",
       "      <th>51435</th>\n",
       "      <td>64340</td>\n",
       "      <td>-0.55</td>\n",
       "      <td>-2.34</td>\n",
       "      <td>0</td>\n",
       "      <td>2.636364</td>\n",
       "      <td>1.0</td>\n",
       "      <td>5.445599</td>\n",
       "      <td>Noon</td>\n",
       "      <td>Noon</td>\n",
       "      <td>Noon</td>\n",
       "      <td>2</td>\n",
       "      <td>0</td>\n",
       "    </tr>\n",
       "  </tbody>\n",
       "</table>\n",
       "</div>"
      ],
      "text/plain": [
       "       user_id    X1    X2  X3  avg_hours_to_open  med_hours_to_open  \\\n",
       "78328    97927 -0.18  1.86   3           1.466667                1.0   \n",
       "35874    44913 -0.19 -0.81   3           1.500000                1.5   \n",
       "10839    13589 -0.75  1.65   3           1.714286                1.0   \n",
       "2430      3052 -0.80  0.85   2           9.000000                7.0   \n",
       "51435    64340 -0.55 -2.34   0           2.636364                1.0   \n",
       "\n",
       "       std_hours_to_open mean_TO_period med_TO_period mod_TO_period  cluster  \\\n",
       "78328           0.639940           Noon          Noon          Noon        2   \n",
       "35874           0.547723           Noon          Noon       Morning        0   \n",
       "10839           1.253566           Noon          Noon       Evening        2   \n",
       "2430            9.416298        Morning       Morning       Morning        0   \n",
       "51435           5.445599           Noon          Noon          Noon        2   \n",
       "\n",
       "       dist  \n",
       "78328     0  \n",
       "35874     0  \n",
       "10839     0  \n",
       "2430      1  \n",
       "51435     0  "
      ]
     },
     "execution_count": 32,
     "metadata": {},
     "output_type": "execute_result"
    }
   ],
   "source": [
    "user_data.sample(5)"
   ]
  },
  {
   "cell_type": "code",
   "execution_count": 33,
   "metadata": {},
   "outputs": [
    {
     "name": "stdout",
     "output_type": "stream",
     "text": [
      "Whole-population mean: 9.553826290969738\n"
     ]
    },
    {
     "data": {
      "text/html": [
       "<div>\n",
       "<style scoped>\n",
       "    .dataframe tbody tr th:only-of-type {\n",
       "        vertical-align: middle;\n",
       "    }\n",
       "\n",
       "    .dataframe tbody tr th {\n",
       "        vertical-align: top;\n",
       "    }\n",
       "\n",
       "    .dataframe thead th {\n",
       "        text-align: right;\n",
       "    }\n",
       "</style>\n",
       "<table border=\"1\" class=\"dataframe\">\n",
       "  <thead>\n",
       "    <tr style=\"text-align: right;\">\n",
       "      <th></th>\n",
       "      <th>Mean (h)</th>\n",
       "      <th>Median (h)</th>\n",
       "      <th>Count</th>\n",
       "    </tr>\n",
       "    <tr>\n",
       "      <th>dist</th>\n",
       "      <th></th>\n",
       "      <th></th>\n",
       "      <th></th>\n",
       "    </tr>\n",
       "  </thead>\n",
       "  <tbody>\n",
       "    <tr>\n",
       "      <th>0</th>\n",
       "      <td>1.593966</td>\n",
       "      <td>1.0</td>\n",
       "      <td>132819</td>\n",
       "    </tr>\n",
       "    <tr>\n",
       "      <th>1</th>\n",
       "      <td>11.639272</td>\n",
       "      <td>12.0</td>\n",
       "      <td>506952</td>\n",
       "    </tr>\n",
       "  </tbody>\n",
       "</table>\n",
       "</div>"
      ],
      "text/plain": [
       "       Mean (h)  Median (h)   Count\n",
       "dist                               \n",
       "0      1.593966         1.0  132819\n",
       "1     11.639272        12.0  506952"
      ]
     },
     "execution_count": 33,
     "metadata": {},
     "output_type": "execute_result"
    }
   ],
   "source": [
    "act_with_dist = pd.merge(act_data[['user_id', 'hours_to_open']], user_data[['user_id', 'dist']], on='user_id', how='inner')\n",
    "perfm = pd.concat([act_with_dist.groupby('dist').mean()['hours_to_open'],\n",
    "           act_with_dist.groupby('dist').median()['hours_to_open'],\n",
    "           act_with_dist.groupby('dist').count()['hours_to_open']], axis=1, keys=['Mean (h)', 'Median (h)', 'Count'])\n",
    "print('Whole-population mean:', (perfm['Mean (h)'] * perfm['Count']).sum() / perfm['Count'].sum())\n",
    "perfm"
   ]
  },
  {
   "cell_type": "markdown",
   "metadata": {},
   "source": [
    "As expected, the user type-0 population has a very small mean/median of the hours-to-open-emails. I think it makes more sense to separate these two populations first, and optimize the not-so-good one (i.e. user type-1)"
   ]
  },
  {
   "cell_type": "markdown",
   "metadata": {},
   "source": [
    "### Building Predictive Models for Send-Time Optimization"
   ]
  },
  {
   "cell_type": "markdown",
   "metadata": {},
   "source": [
    "Now that I have several potential target variables, let's try building some predictive models based on supervised learning approach. First, let's define the baseline performance, which is the mean/median of hours to open emails from the total population (note: I'm also checking median to see if the data is normally distributed or potentially consists of outliers."
   ]
  },
  {
   "cell_type": "code",
   "execution_count": 34,
   "metadata": {},
   "outputs": [
    {
     "data": {
      "text/html": [
       "<div>\n",
       "<style scoped>\n",
       "    .dataframe tbody tr th:only-of-type {\n",
       "        vertical-align: middle;\n",
       "    }\n",
       "\n",
       "    .dataframe tbody tr th {\n",
       "        vertical-align: top;\n",
       "    }\n",
       "\n",
       "    .dataframe thead th {\n",
       "        text-align: right;\n",
       "    }\n",
       "</style>\n",
       "<table border=\"1\" class=\"dataframe\">\n",
       "  <thead>\n",
       "    <tr style=\"text-align: right;\">\n",
       "      <th></th>\n",
       "      <th>Mean (h)</th>\n",
       "      <th>Median (h)</th>\n",
       "    </tr>\n",
       "  </thead>\n",
       "  <tbody>\n",
       "    <tr>\n",
       "      <th>hours_to_open</th>\n",
       "      <td>9.553826</td>\n",
       "      <td>7.0</td>\n",
       "    </tr>\n",
       "  </tbody>\n",
       "</table>\n",
       "</div>"
      ],
      "text/plain": [
       "               Mean (h)  Median (h)\n",
       "hours_to_open  9.553826         7.0"
      ]
     },
     "execution_count": 34,
     "metadata": {},
     "output_type": "execute_result"
    }
   ],
   "source": [
    "pd.concat([act_data[['hours_to_open']].mean(),\n",
    "           act_data[['hours_to_open']].median()], axis=1, keys=['Mean (h)', 'Median (h)'])"
   ]
  },
  {
   "cell_type": "markdown",
   "metadata": {},
   "source": [
    "#### Naive Model"
   ]
  },
  {
   "cell_type": "markdown",
   "metadata": {},
   "source": [
    "Next, let's try the most naive model where all emails are sent at the same time. According to the visualization above, most activities starts around 6 am. Let's change TSs to this value."
   ]
  },
  {
   "cell_type": "code",
   "execution_count": 35,
   "metadata": {
    "scrolled": true
   },
   "outputs": [
    {
     "data": {
      "text/html": [
       "<div>\n",
       "<style scoped>\n",
       "    .dataframe tbody tr th:only-of-type {\n",
       "        vertical-align: middle;\n",
       "    }\n",
       "\n",
       "    .dataframe tbody tr th {\n",
       "        vertical-align: top;\n",
       "    }\n",
       "\n",
       "    .dataframe thead th {\n",
       "        text-align: right;\n",
       "    }\n",
       "</style>\n",
       "<table border=\"1\" class=\"dataframe\">\n",
       "  <thead>\n",
       "    <tr style=\"text-align: right;\">\n",
       "      <th></th>\n",
       "      <th>Mean (h)</th>\n",
       "      <th>Median (h)</th>\n",
       "    </tr>\n",
       "  </thead>\n",
       "  <tbody>\n",
       "    <tr>\n",
       "      <th>hours_to_open</th>\n",
       "      <td>8.88602</td>\n",
       "      <td>8.0</td>\n",
       "    </tr>\n",
       "  </tbody>\n",
       "</table>\n",
       "</div>"
      ],
      "text/plain": [
       "               Mean (h)  Median (h)\n",
       "hours_to_open   8.88602         8.0"
      ]
     },
     "execution_count": 35,
     "metadata": {},
     "output_type": "execute_result"
    }
   ],
   "source": [
    "naive = act_data[['TO']].copy()\n",
    "naive['TS_hat'] = datetime.strptime('06:00', '%H:%M')\n",
    "\n",
    "#if TS is earlier than TO\n",
    "naive.loc[naive['TO']>=naive['TS_hat'], 'mins_to_open'] = (naive['TO'] - naive['TS_hat']).dt.total_seconds()/60\n",
    "#otherwise, add 24 hours for the next day\n",
    "naive.loc[naive['TO']<naive['TS_hat'], 'mins_to_open'] = (naive['TO'] - naive['TS_hat'] + timedelta(hours=24)) \\\n",
    "                                                                .dt.total_seconds()/60\n",
    "naive['hours_to_open'] = np.ceil(naive['mins_to_open']/60)\n",
    "\n",
    "pd.concat([naive[['hours_to_open']].mean(),\n",
    "           naive[['hours_to_open']].median()], axis=1, keys=['Mean (h)', 'Median (h)'])"
   ]
  },
  {
   "cell_type": "markdown",
   "metadata": {},
   "source": [
    "This approach can bring the average time down a little, and the median closer (more normally distributed). Let's continue with predictive models."
   ]
  },
  {
   "cell_type": "markdown",
   "metadata": {},
   "source": [
    "#### Classification Models"
   ]
  },
  {
   "cell_type": "markdown",
   "metadata": {},
   "source": [
    "Using user features, I'm going to train 5 classifiers to predict the mean, median, and most frequent period of time to open emails, as well as the type of distribution, and cluster assignment. Let's create a machine learning pipeline for this, and evaluate the performances with cross validation."
   ]
  },
  {
   "cell_type": "code",
   "execution_count": 36,
   "metadata": {},
   "outputs": [],
   "source": [
    "num_vars = ['X1', 'X2']\n",
    "cat_vars = ['X3']\n",
    "\n",
    "num_transform = Pipeline(steps=[('scaler', MinMaxScaler())])\n",
    "cat_transform = Pipeline(steps=[('ohe', OneHotEncoder())])\n",
    "\n",
    "preprocessor = ColumnTransformer(\n",
    "    transformers=[\n",
    "        ('numeric_features', num_transform, num_vars),\n",
    "        ('categorical_features', cat_transform, cat_vars)\n",
    "    ])\n",
    "\n",
    "clf_pipeline = Pipeline(steps=[\n",
    "    ('preprocessor', preprocessor),\n",
    "    ('classifier', RandomForestClassifier(random_state=42))\n",
    "])"
   ]
  },
  {
   "cell_type": "code",
   "execution_count": 37,
   "metadata": {},
   "outputs": [
    {
     "name": "stdout",
     "output_type": "stream",
     "text": [
      "Accuracy [ mean_TO_period ]: 0.7167 (std = 0.004643274706497571 )\n",
      "Accuracy [ med_TO_period ]: 0.5402 (std = 0.007678541528180979 )\n",
      "Accuracy [ mod_TO_period ]: 0.4856 (std = 0.010711675872616748 )\n",
      "Accuracy [ cluster ]: 0.4022 (std = 0.006144916598294877 )\n",
      "Accuracy [ dist ]: 0.9338999999999998 (std = 0.0034554305086341797 )\n"
     ]
    }
   ],
   "source": [
    "targets = ['mean_TO_period', 'med_TO_period', 'mod_TO_period', 'cluster', 'dist']\n",
    "sampled = user_data.sample(10000)\n",
    "X = sampled[['X1', 'X2', 'X3']]\n",
    "\n",
    "for target in targets:\n",
    "\n",
    "    y = sampled[target]\n",
    "    if (y.nunique()>2):\n",
    "        y = pd.get_dummies(y.astype('category'))\n",
    "    \n",
    "    #X_train, X_test, y_train, y_test = train_test_split(X, y, test_size=0.2, random_state=42)\n",
    "    #clf_pipeline.fit(X_train, y_train)\n",
    "    #y_pred = clf_pipeline.predict(X_test)\n",
    "    #print('Accuracy [', target, ']:', accuracy_score(y_test, y_pred))\n",
    "    \n",
    "    crossval = cross_val_score(clf_pipeline, X, y, cv=5, scoring='accuracy')\n",
    "    print('Accuracy [', target, ']:', np.mean(crossval), '(std =', np.std(crossval) , ')')"
   ]
  },
  {
   "cell_type": "markdown",
   "metadata": {},
   "source": [
    "The key takeaways from these: 1) the type of users' behavior can be predicted accurately from the user features, 2) the mean of period of time to open emails seems to work better as the target variable compared to the mode or median, 3) clustering-based label doesn't seem to work as good as expected."
   ]
  },
  {
   "cell_type": "markdown",
   "metadata": {},
   "source": [
    "From here, I'm going to pick the 1st and 5th-classifier (mean period of time, and distribution prediction) to be considered in the further steps. The way it works:\n",
    "<ul>\n",
    "    <li>Using the 5th-classifier, predict whether a user falls in the type-0 or the type-1 distribution.</li>\n",
    "    <li>As observed previously, user type-0 opens their email pretty regularly, so sending emails to this type of user should be fine at any time.</li>\n",
    "    <li>As the send-time for user type-1 needs to be optimized, using the 1st-classifier, predict what period of time most likely users will open email. Assign the most optimum send time based on groups.</li>\n",
    "</ul>"
   ]
  },
  {
   "cell_type": "markdown",
   "metadata": {},
   "source": [
    "### Model Evaluation"
   ]
  },
  {
   "cell_type": "markdown",
   "metadata": {},
   "source": [
    "Let's check this using the evaluation set. First, let's transform the evaluation set using the same steps as previously. Then, re-train the model using the whole training set."
   ]
  },
  {
   "cell_type": "code",
   "execution_count": 40,
   "metadata": {},
   "outputs": [],
   "source": [
    "ts_melted = pd.melt(test_set, id_vars=['user_id'], value_vars=sendings, var_name='Tx', value_name='TS')\n",
    "ts_melted['Tx'] = ts_melted['user_id'].astype('str') + '-' + ts_melted['Tx'].str[-2:]  #the helper key\n",
    "to_melted = pd.melt(test_set, id_vars=['user_id'], value_vars=openings, var_name='Tx', value_name='TO')\n",
    "to_melted['Tx'] = to_melted['user_id'].astype('str') + '-' + to_melted['Tx'].str[-2:]\n",
    "\n",
    "df_melted = pd.merge(ts_melted, to_melted.drop('user_id', axis=1), on='Tx', how='inner')\n",
    "df_joined = pd.merge(test_set[profiles], df_melted, on='user_id', how='inner')\n",
    "df_joined.drop('Tx', axis=1, inplace=True)\n",
    "df_joined.dropna(inplace=True)\n",
    "\n",
    "act_data_test = df_joined.copy()\n",
    "act_data_test['TS'] = pd.to_datetime(act_data_test['TS'], format='%H:%M')\n",
    "act_data_test['TO'] = pd.to_datetime(act_data_test['TO'], format='%H:%M')\n",
    "#if TS is earlier than TO\n",
    "act_data_test.loc[act_data_test['TO']>=act_data_test['TS'], 'mins_to_open'] = (act_data_test['TO'] - act_data_test['TS']).dt.total_seconds()/60\n",
    "#otherwise, add 24 hours for the next day\n",
    "act_data_test.loc[act_data_test['TO']<act_data_test['TS'], 'mins_to_open'] = (act_data_test['TO'] - act_data_test['TS'] + timedelta(hours=24)) \\\n",
    "                                                                .dt.total_seconds()/60\n",
    "act_data_test['hours_to_open'] = np.ceil(act_data_test['mins_to_open']/60)\n",
    "act_data_test['TO_hour_of_day'] = act_data_test['TO'].dt.hour\n",
    "\n",
    "user_data_test = pd.DataFrame()\n",
    "user_data_test['avg_hours_to_open'] = act_data_test.groupby('user_id').mean()['hours_to_open']\n",
    "user_data_test['mean_TO_period'] = (act_data_test.groupby('user_id').mean()['TO_hour_of_day']).apply(period_from_hour)\n",
    "user_data_test.reset_index(inplace=True)\n",
    "user_data_test = pd.merge(test_set[profiles], user_data_test, on='user_id', how='inner')"
   ]
  },
  {
   "cell_type": "code",
   "execution_count": 41,
   "metadata": {},
   "outputs": [
    {
     "data": {
      "image/png": "[encoded data removed]",
      "text/plain": [
       "<Figure size 720x360 with 1 Axes>"
      ]
     },
     "metadata": {},
     "output_type": "display_data"
    }
   ],
   "source": [
    "gmm = GaussianMixture(n_components=2)\n",
    "gmm.fit(user_data_test[['avg_hours_to_open']])\n",
    "dists = gmm.predict(user_data_test[['avg_hours_to_open']])\n",
    "user_data_test['dist'] = dists\n",
    "\n",
    "user_data_test[user_data_test['dist']==0]['avg_hours_to_open'].hist(bins=4, label='User type-0')\n",
    "user_data_test[user_data_test['dist']==1]['avg_hours_to_open'].hist(bins=20, label='User type-1')\n",
    "plt.legend()\n",
    "plt.show()"
   ]
  },
  {
   "cell_type": "markdown",
   "metadata": {},
   "source": [
    "#### Baseline Performance"
   ]
  },
  {
   "cell_type": "markdown",
   "metadata": {},
   "source": [
    "Baseline performance on the evaluation set."
   ]
  },
  {
   "cell_type": "code",
   "execution_count": 42,
   "metadata": {},
   "outputs": [
    {
     "data": {
      "text/html": [
       "<div>\n",
       "<style scoped>\n",
       "    .dataframe tbody tr th:only-of-type {\n",
       "        vertical-align: middle;\n",
       "    }\n",
       "\n",
       "    .dataframe tbody tr th {\n",
       "        vertical-align: top;\n",
       "    }\n",
       "\n",
       "    .dataframe thead th {\n",
       "        text-align: right;\n",
       "    }\n",
       "</style>\n",
       "<table border=\"1\" class=\"dataframe\">\n",
       "  <thead>\n",
       "    <tr style=\"text-align: right;\">\n",
       "      <th></th>\n",
       "      <th>Mean (h)</th>\n",
       "      <th>Median (h)</th>\n",
       "    </tr>\n",
       "  </thead>\n",
       "  <tbody>\n",
       "    <tr>\n",
       "      <th>hours_to_open</th>\n",
       "      <td>9.578444</td>\n",
       "      <td>7.0</td>\n",
       "    </tr>\n",
       "  </tbody>\n",
       "</table>\n",
       "</div>"
      ],
      "text/plain": [
       "               Mean (h)  Median (h)\n",
       "hours_to_open  9.578444         7.0"
      ]
     },
     "execution_count": 42,
     "metadata": {},
     "output_type": "execute_result"
    }
   ],
   "source": [
    "pd.concat([act_data_test[['hours_to_open']].mean(),\n",
    "           act_data_test[['hours_to_open']].median()], axis=1, keys=['Mean (h)', 'Median (h)'])"
   ]
  },
  {
   "cell_type": "markdown",
   "metadata": {},
   "source": [
    "#### Naive Model"
   ]
  },
  {
   "cell_type": "markdown",
   "metadata": {},
   "source": [
    "Let's apply the naive model to the evaluation set, and see how the performance."
   ]
  },
  {
   "cell_type": "code",
   "execution_count": 43,
   "metadata": {},
   "outputs": [
    {
     "data": {
      "text/html": [
       "<div>\n",
       "<style scoped>\n",
       "    .dataframe tbody tr th:only-of-type {\n",
       "        vertical-align: middle;\n",
       "    }\n",
       "\n",
       "    .dataframe tbody tr th {\n",
       "        vertical-align: top;\n",
       "    }\n",
       "\n",
       "    .dataframe thead th {\n",
       "        text-align: right;\n",
       "    }\n",
       "</style>\n",
       "<table border=\"1\" class=\"dataframe\">\n",
       "  <thead>\n",
       "    <tr style=\"text-align: right;\">\n",
       "      <th></th>\n",
       "      <th>Mean (h)</th>\n",
       "      <th>Median (h)</th>\n",
       "    </tr>\n",
       "  </thead>\n",
       "  <tbody>\n",
       "    <tr>\n",
       "      <th>hours_to_open</th>\n",
       "      <td>8.890275</td>\n",
       "      <td>8.0</td>\n",
       "    </tr>\n",
       "  </tbody>\n",
       "</table>\n",
       "</div>"
      ],
      "text/plain": [
       "               Mean (h)  Median (h)\n",
       "hours_to_open  8.890275         8.0"
      ]
     },
     "execution_count": 43,
     "metadata": {},
     "output_type": "execute_result"
    }
   ],
   "source": [
    "naive = act_data_test[['TO']].copy()\n",
    "naive['TS_hat'] = datetime.strptime('06:00', '%H:%M')\n",
    "\n",
    "#if TS is earlier than TO\n",
    "naive.loc[naive['TO']>=naive['TS_hat'], 'mins_to_open'] = (naive['TO'] - naive['TS_hat']).dt.total_seconds()/60\n",
    "#otherwise, add 24 hours for the next day\n",
    "naive.loc[naive['TO']<naive['TS_hat'], 'mins_to_open'] = (naive['TO'] - naive['TS_hat'] + timedelta(hours=24)) \\\n",
    "                                                                .dt.total_seconds()/60\n",
    "naive['hours_to_open'] = np.ceil(naive['mins_to_open']/60)\n",
    "\n",
    "pd.concat([naive[['hours_to_open']].mean(),\n",
    "           naive[['hours_to_open']].median()], axis=1, keys=['Mean (h)', 'Median (h)'])"
   ]
  },
  {
   "cell_type": "markdown",
   "metadata": {},
   "source": [
    "Both baseline and naive-model perform similarly when applied to the training set."
   ]
  },
  {
   "cell_type": "markdown",
   "metadata": {},
   "source": [
    "#### Classification Model"
   ]
  },
  {
   "cell_type": "code",
   "execution_count": 44,
   "metadata": {},
   "outputs": [
    {
     "data": {
      "text/plain": [
       "Pipeline(memory=None,\n",
       "         steps=[('preprocessor',\n",
       "                 ColumnTransformer(n_jobs=None, remainder='drop',\n",
       "                                   sparse_threshold=0.3,\n",
       "                                   transformer_weights=None,\n",
       "                                   transformers=[('numeric_features',\n",
       "                                                  Pipeline(memory=None,\n",
       "                                                           steps=[('scaler',\n",
       "                                                                   MinMaxScaler(copy=True,\n",
       "                                                                                feature_range=(0,\n",
       "                                                                                               1)))],\n",
       "                                                           verbose=False),\n",
       "                                                  ['X1', 'X2']),\n",
       "                                                 ('categorical_features',\n",
       "                                                  Pipeline(memory=None,\n",
       "                                                           steps=[('ohe',\n",
       "                                                                   OneHotEn...\n",
       "                 RandomForestClassifier(bootstrap=True, ccp_alpha=0.0,\n",
       "                                        class_weight=None, criterion='gini',\n",
       "                                        max_depth=None, max_features='auto',\n",
       "                                        max_leaf_nodes=None, max_samples=None,\n",
       "                                        min_impurity_decrease=0.0,\n",
       "                                        min_impurity_split=None,\n",
       "                                        min_samples_leaf=1, min_samples_split=2,\n",
       "                                        min_weight_fraction_leaf=0.0,\n",
       "                                        n_estimators=100, n_jobs=None,\n",
       "                                        oob_score=False, random_state=42,\n",
       "                                        verbose=0, warm_start=False))],\n",
       "         verbose=False)"
      ]
     },
     "execution_count": 44,
     "metadata": {},
     "output_type": "execute_result"
    }
   ],
   "source": [
    "X_train = user_data[['X1', 'X2', 'X3']]\n",
    "y_train = user_data['dist']\n",
    "X_val = user_data_test[['X1', 'X2', 'X3']]\n",
    "y_val = user_data_test['dist']\n",
    "\n",
    "clf_pipeline.fit(X_train, y_train)"
   ]
  },
  {
   "cell_type": "code",
   "execution_count": 45,
   "metadata": {},
   "outputs": [
    {
     "name": "stdout",
     "output_type": "stream",
     "text": [
      "Accuracy: 0.92125\n"
     ]
    }
   ],
   "source": [
    "y_pred = clf_pipeline.predict(X_val)\n",
    "print('Accuracy:', accuracy_score(y_pred, y_val))"
   ]
  },
  {
   "cell_type": "code",
   "execution_count": 58,
   "metadata": {},
   "outputs": [],
   "source": [
    "user_type1 = user_data[user_data['dist']==1]\n",
    "\n",
    "user_data_test['dist_hat'] = y_pred\n",
    "\n",
    "user_type0_test = user_data_test[user_data_test['dist_hat']==0]\n",
    "user_type1_test = user_data_test[user_data_test['dist_hat']==1]"
   ]
  },
  {
   "cell_type": "markdown",
   "metadata": {},
   "source": [
    "Predict the period of time for users to open emails."
   ]
  },
  {
   "cell_type": "code",
   "execution_count": 62,
   "metadata": {},
   "outputs": [
    {
     "data": {
      "text/plain": [
       "Pipeline(memory=None,\n",
       "         steps=[('preprocessor',\n",
       "                 ColumnTransformer(n_jobs=None, remainder='drop',\n",
       "                                   sparse_threshold=0.3,\n",
       "                                   transformer_weights=None,\n",
       "                                   transformers=[('numeric_features',\n",
       "                                                  Pipeline(memory=None,\n",
       "                                                           steps=[('scaler',\n",
       "                                                                   MinMaxScaler(copy=True,\n",
       "                                                                                feature_range=(0,\n",
       "                                                                                               1)))],\n",
       "                                                           verbose=False),\n",
       "                                                  ['X1', 'X2']),\n",
       "                                                 ('categorical_features',\n",
       "                                                  Pipeline(memory=None,\n",
       "                                                           steps=[('ohe',\n",
       "                                                                   OneHotEn...\n",
       "                 RandomForestClassifier(bootstrap=True, ccp_alpha=0.0,\n",
       "                                        class_weight=None, criterion='gini',\n",
       "                                        max_depth=None, max_features='auto',\n",
       "                                        max_leaf_nodes=None, max_samples=None,\n",
       "                                        min_impurity_decrease=0.0,\n",
       "                                        min_impurity_split=None,\n",
       "                                        min_samples_leaf=1, min_samples_split=2,\n",
       "                                        min_weight_fraction_leaf=0.0,\n",
       "                                        n_estimators=100, n_jobs=None,\n",
       "                                        oob_score=False, random_state=42,\n",
       "                                        verbose=0, warm_start=False))],\n",
       "         verbose=False)"
      ]
     },
     "execution_count": 62,
     "metadata": {},
     "output_type": "execute_result"
    }
   ],
   "source": [
    "X_train3 = user_type1[['X1', 'X2', 'X3']]\n",
    "y_train3 = pd.get_dummies(user_type1['mean_TO_period'].astype('category'))\n",
    "X_val3 = user_type1_test[['X1', 'X2', 'X3']]\n",
    "y_val3 = pd.get_dummies(user_type1_test['mean_TO_period'].astype('category'))\n",
    "\n",
    "clf_pipeline.fit(X_train3, y_train3)"
   ]
  },
  {
   "cell_type": "code",
   "execution_count": 63,
   "metadata": {},
   "outputs": [
    {
     "name": "stdout",
     "output_type": "stream",
     "text": [
      "Accuracy: 0.6816496454823392\n"
     ]
    }
   ],
   "source": [
    "y_pred3 = clf_pipeline.predict(X_val3)\n",
    "print('Accuracy:', accuracy_score(y_pred3, y_val3))"
   ]
  },
  {
   "cell_type": "code",
   "execution_count": 64,
   "metadata": {},
   "outputs": [],
   "source": [
    "periods = y_val3.columns.tolist()\n",
    "user_type1_test['mean_TO_period_hat'] = [periods[np.argmax(y)] for y in y_pred3]"
   ]
  },
  {
   "cell_type": "markdown",
   "metadata": {},
   "source": [
    "Now, let's create prediction for the sending time that might minimize the time to open the emails. I'm going to use the GridSearch approach to find the most optimum time to send emails for each of group."
   ]
  },
  {
   "cell_type": "code",
   "execution_count": 53,
   "metadata": {},
   "outputs": [],
   "source": [
    "def hour_from_period(period, params):\n",
    "    \n",
    "    if period=='Midnight':\n",
    "        return datetime.strptime(params[0], '%H:%M')\n",
    "    elif period=='Morning':\n",
    "        return datetime.strptime(params[1], '%H:%M')\n",
    "    elif period=='Noon':\n",
    "        return datetime.strptime(params[2], '%H:%M')\n",
    "    elif period=='Evening':\n",
    "        return datetime.strptime(params[3], '%H:%M')"
   ]
  },
  {
   "cell_type": "code",
   "execution_count": 65,
   "metadata": {},
   "outputs": [],
   "source": [
    "params = {\n",
    "    'midnight': ['23:00', '00:00', '01:00'],\n",
    "    'morning': ['05:00', '06:00', '07:00'],\n",
    "    'noon': ['11:00', '12:00', '13:00'],\n",
    "    'evening': ['17:00', '18:00', '19:00']\n",
    "}\n",
    "grid = ParameterGrid(params)\n",
    "all_means = []\n",
    "all_medians = []\n",
    "\n",
    "temp0 = pd.merge(act_data_test[['user_id', 'TS', 'TO']], user_type0_test[['user_id', 'dist_hat']],\n",
    "                on='user_id', how='right')\n",
    "temp0['TS_hat'] = temp0['TS']\n",
    "temp0.loc[temp0['TO']>=temp0['TS_hat'], 'mins_to_open'] = (temp0['TO'] - temp0['TS_hat']).dt.total_seconds()/60\n",
    "temp0.loc[temp0['TO']<temp0['TS_hat'], 'mins_to_open'] = (temp0['TO'] - temp0['TS_hat'] + timedelta(hours=24)) \\\n",
    "                                                                .dt.total_seconds()/60\n",
    "temp0['hours_to_open'] = np.ceil(temp0['mins_to_open']/60)\n",
    "\n",
    "for g in grid:\n",
    "\n",
    "    params = [g['midnight'], g['morning'], g['noon'], g['evening']]\n",
    "\n",
    "    user_type1_test['TS_hat'] = user_type1_test['mean_TO_period_hat'].apply(lambda x: hour_from_period(x, params))\n",
    "    temp1 = pd.merge(act_data_test[['user_id', 'TS', 'TO']], user_type1_test[['user_id', 'TS_hat', 'dist_hat']],\n",
    "                    on='user_id', how='right')\n",
    "    temp1.loc[temp1['TO']>=temp1['TS_hat'], 'mins_to_open'] = (temp1['TO'] - temp1['TS_hat']).dt.total_seconds()/60\n",
    "    temp1.loc[temp1['TO']<temp1['TS_hat'], 'mins_to_open'] = (temp1['TO'] - temp1['TS_hat'] + timedelta(hours=24)) \\\n",
    "                                                                    .dt.total_seconds()/60\n",
    "    temp1['hours_to_open'] = np.ceil(temp1['mins_to_open']/60)\n",
    "\n",
    "    time_prediction = pd.concat([temp0, temp1])\n",
    "    \n",
    "    all_means.append(time_prediction['hours_to_open'].mean())\n",
    "    all_medians.append(time_prediction['hours_to_open'].median())"
   ]
  },
  {
   "cell_type": "code",
   "execution_count": null,
   "metadata": {},
   "outputs": [],
   "source": [
    "best_idx = all_means.index(np.min(all_means))\n",
    "best_params = (list(grid))[best_idx]\n",
    "best_params"
   ]
  },
  {
   "cell_type": "code",
   "execution_count": null,
   "metadata": {},
   "outputs": [],
   "source": [
    "print('Best mean of hours:', all_means[best_idx])\n",
    "print('Best mean of hours:', all_medians[best_idx])"
   ]
  },
  {
   "cell_type": "markdown",
   "metadata": {},
   "source": [
    "### Conclusion"
   ]
  },
  {
   "cell_type": "markdown",
   "metadata": {},
   "source": [
    "Throughout this notebook, I've shown how to build models to solve send-time optimization problem. The task is to predict the time to send emails that minimizes the time difference until users open those emails. Therefore, the average hours to open emails across all users is selected as the evaluation metrics. While picking one most optimum time and uniformly apply that to all users may reduce the time difference slightly, the personalized send-time based on users profile can reduce the time even more. The followings are the summary of the findings:\n",
    "\n",
    "<ul>\n",
    "    <li>Baseline: mean - 9.578444, median - 7.0</li>\n",
    "    <li>Naive approach (uniform send-time): mean - 8.890275, median - 8.0 (better mean, worse median)</li>\n",
    "    <li>Model-based approach (personalized send-time): mean - 8.430412905414318, median - 6.0</li>\n",
    "</ul>"
   ]
  },
  {
   "cell_type": "markdown",
   "metadata": {},
   "source": [
    "Despite the results, I think there are still rooms to improve the models. First, the number of features used to train the models is quite small. This might contribute to the unpredictability of the clustering-based label, even though through visualization, this approach showed some potential. Collecting new datapoints or features (e.g user profiles, etc.) typically can improve the performance of machine learning models. Overfitting might not an issue here as the dataset size is relatively large. Second, models can be further refined by tuning the hyperparameters. In this notebook, I didn't perform the hyperparameter tuning, as it might take quite some time especially with a big number of search space and the size of the dataset. Third, as I pointed out earlier, the task in this case study is naturally an optimization problem, which requires a certain degree of experimentation. While the model-based approach might be a good starting point, being able to do experiment through A/B testing will help to improve the optimization result. Furthermore, it also allows the implementation of reinforcement learning model and/or optimization-based approach."
   ]
  },
  {
   "cell_type": "code",
   "execution_count": null,
   "metadata": {},
   "outputs": [],
   "source": []
  }
 ],
 "metadata": {
  "kernelspec": {
   "display_name": "Python 3",
   "language": "python",
   "name": "python3"
  },
  "language_info": {
   "codemirror_mode": {
    "name": "ipython",
    "version": 3
   },
   "file_extension": ".py",
   "mimetype": "text/x-python",
   "name": "python",
   "nbconvert_exporter": "python",
   "pygments_lexer": "ipython3",
   "version": "3.7.3"
  }
 },
 "nbformat": 4,
 "nbformat_minor": 2
}
